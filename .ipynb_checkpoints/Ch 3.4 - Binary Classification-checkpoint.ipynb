{
 "cells": [
  {
   "cell_type": "code",
   "execution_count": 1,
   "metadata": {
    "scrolled": true
   },
   "outputs": [
    {
     "name": "stderr",
     "output_type": "stream",
     "text": [
      "/home/n/anaconda2/lib/python2.7/site-packages/h5py/__init__.py:36: FutureWarning: Conversion of the second argument of issubdtype from `float` to `np.floating` is deprecated. In future, it will be treated as `np.float64 == np.dtype(float).type`.\n",
      "  from ._conv import register_converters as _register_converters\n",
      "Using TensorFlow backend.\n"
     ]
    }
   ],
   "source": [
    "from keras.datasets import imdb\n",
    "\n",
    "(train_data, train_labels), (test_data, test_labels) = imdb.load_data(num_words=10000)\n"
   ]
  },
  {
   "cell_type": "code",
   "execution_count": 2,
   "metadata": {},
   "outputs": [
    {
     "data": {
      "text/plain": [
       "array([0., 1., 1., ..., 0., 0., 0.], dtype=float32)"
      ]
     },
     "execution_count": 2,
     "metadata": {},
     "output_type": "execute_result"
    }
   ],
   "source": [
    "import numpy as np\n",
    "\n",
    "def vectorize_sequences(sequences, dimension=10000):\n",
    "    results = np.zeros((len(sequences), dimension))\n",
    "    for i, sequence in enumerate(sequences):\n",
    "        results[i, sequence] = 1.\n",
    "    return results\n",
    "\n",
    "x_train = vectorize_sequences(train_data)\n",
    "x_test = vectorize_sequences(test_data)\n",
    "\n",
    "y_train = np.asarray(train_labels).astype('float32')\n",
    "y_test = np.asarray(test_labels).astype('float32')"
   ]
  },
  {
   "cell_type": "code",
   "execution_count": 5,
   "metadata": {},
   "outputs": [],
   "source": [
    "from keras import models\n",
    "from keras import layers\n",
    "\n",
    "model = models.Sequential()\n",
    "model.add(layers.Dense(16, activation='relu', input_shape=(10000,)))\n",
    "model.add(layers.Dense(16, activation='relu'))\n",
    "model.add(layers.Dense(1, activation='sigmoid'))\n",
    "\n",
    "model.compile(\n",
    "    optimizer='rmsprop',\n",
    "    loss='binary_crossentropy',\n",
    "    metrics=['accuracy']\n",
    ")"
   ]
  },
  {
   "cell_type": "code",
   "execution_count": 6,
   "metadata": {},
   "outputs": [],
   "source": [
    "x_val = x_train[:10000]\n",
    "partial_x_train = x_train[10000:]\n",
    "y_val = y_train[:10000]\n",
    "partial_y_train = y_train[10000:]"
   ]
  },
  {
   "cell_type": "code",
   "execution_count": 7,
   "metadata": {},
   "outputs": [
    {
     "name": "stdout",
     "output_type": "stream",
     "text": [
      "Train on 15000 samples, validate on 10000 samples\n",
      "Epoch 1/20\n",
      "15000/15000 [==============================] - 2s 160us/step - loss: 0.5142 - acc: 0.7847 - val_loss: 0.3804 - val_acc: 0.8733\n",
      "Epoch 2/20\n",
      "15000/15000 [==============================] - 1s 70us/step - loss: 0.2999 - acc: 0.9059 - val_loss: 0.3076 - val_acc: 0.8851\n",
      "Epoch 3/20\n",
      "15000/15000 [==============================] - 1s 70us/step - loss: 0.2188 - acc: 0.9304 - val_loss: 0.2802 - val_acc: 0.8898\n",
      "Epoch 4/20\n",
      "15000/15000 [==============================] - 1s 70us/step - loss: 0.1727 - acc: 0.9436 - val_loss: 0.2779 - val_acc: 0.8871\n",
      "Epoch 5/20\n",
      "15000/15000 [==============================] - 1s 70us/step - loss: 0.1398 - acc: 0.9560 - val_loss: 0.3014 - val_acc: 0.8807\n",
      "Epoch 6/20\n",
      "15000/15000 [==============================] - 1s 70us/step - loss: 0.1159 - acc: 0.9636 - val_loss: 0.3153 - val_acc: 0.8788\n",
      "Epoch 7/20\n",
      "15000/15000 [==============================] - 1s 72us/step - loss: 0.0941 - acc: 0.9716 - val_loss: 0.3116 - val_acc: 0.8834\n",
      "Epoch 8/20\n",
      "15000/15000 [==============================] - 1s 71us/step - loss: 0.0782 - acc: 0.9787 - val_loss: 0.3417 - val_acc: 0.8800\n",
      "Epoch 9/20\n",
      "15000/15000 [==============================] - 1s 71us/step - loss: 0.0641 - acc: 0.9844 - val_loss: 0.3560 - val_acc: 0.8780\n",
      "Epoch 10/20\n",
      "15000/15000 [==============================] - 1s 77us/step - loss: 0.0585 - acc: 0.9842 - val_loss: 0.3783 - val_acc: 0.8793\n",
      "Epoch 11/20\n",
      "15000/15000 [==============================] - 1s 85us/step - loss: 0.0382 - acc: 0.9927 - val_loss: 0.4102 - val_acc: 0.8747\n",
      "Epoch 12/20\n",
      "15000/15000 [==============================] - 1s 73us/step - loss: 0.0400 - acc: 0.9903 - val_loss: 0.4334 - val_acc: 0.8756\n",
      "Epoch 13/20\n",
      "15000/15000 [==============================] - 1s 72us/step - loss: 0.0269 - acc: 0.9949 - val_loss: 0.4600 - val_acc: 0.8754\n",
      "Epoch 14/20\n",
      "15000/15000 [==============================] - 1s 72us/step - loss: 0.0245 - acc: 0.9951 - val_loss: 0.4910 - val_acc: 0.8731\n",
      "Epoch 15/20\n",
      "15000/15000 [==============================] - 1s 71us/step - loss: 0.0198 - acc: 0.9963 - val_loss: 0.5217 - val_acc: 0.8691\n",
      "Epoch 16/20\n",
      "15000/15000 [==============================] - 1s 71us/step - loss: 0.0134 - acc: 0.9989 - val_loss: 0.5511 - val_acc: 0.8724\n",
      "Epoch 17/20\n",
      "15000/15000 [==============================] - 1s 78us/step - loss: 0.0126 - acc: 0.9985 - val_loss: 0.5762 - val_acc: 0.8682\n",
      "Epoch 18/20\n",
      "15000/15000 [==============================] - 1s 72us/step - loss: 0.0076 - acc: 0.9997 - val_loss: 0.6126 - val_acc: 0.8656\n",
      "Epoch 19/20\n",
      "15000/15000 [==============================] - 1s 72us/step - loss: 0.0091 - acc: 0.9981 - val_loss: 0.6413 - val_acc: 0.8687\n",
      "Epoch 20/20\n",
      "15000/15000 [==============================] - 1s 73us/step - loss: 0.0037 - acc: 0.9999 - val_loss: 0.6689 - val_acc: 0.8675\n"
     ]
    }
   ],
   "source": [
    "history = model.fit(\n",
    "    partial_x_train,\n",
    "    partial_y_train,\n",
    "    epochs=20,\n",
    "    batch_size=512,\n",
    "    validation_data=(x_val, y_val)\n",
    ")"
   ]
  },
  {
   "cell_type": "code",
   "execution_count": 11,
   "metadata": {},
   "outputs": [
    {
     "data": {
      "image/png": "[encoded data removed]",
      "text/plain": [
       "<Figure size 432x288 with 1 Axes>"
      ]
     },
     "metadata": {},
     "output_type": "display_data"
    }
   ],
   "source": [
    "import matplotlib.pyplot as plt\n",
    "\n",
    "history_dict = history.history\n",
    "loss_values = history_dict['loss']\n",
    "val_loss_values = history_dict['val_loss']\n",
    "acc = history_dict['acc']\n",
    "\n",
    "epochs = range(1, len(acc) + 1)\n",
    "\n",
    "plt.plot(epochs, loss_values, 'bo', label='Training Loss')\n",
    "plt.plot(epochs, val_loss_values, 'b', label='Validation Loss')\n",
    "plt.title('Training and validation loss')\n",
    "plt.xlabel('Epochs')\n",
    "plt.ylabel('Loss')\n",
    "plt.legend()\n",
    "\n",
    "plt.show()"
   ]
  },
  {
   "cell_type": "code",
   "execution_count": 13,
   "metadata": {},
   "outputs": [
    {
     "data": {
      "image/png": "[encoded data removed]",
      "text/plain": [
       "<Figure size 432x288 with 1 Axes>"
      ]
     },
     "metadata": {},
     "output_type": "display_data"
    }
   ],
   "source": [
    "plt.clf()\n",
    "\n",
    "val_acc_values = history_dict['val_acc']\n",
    "\n",
    "plt.plot(epochs, acc, 'bo', label='Training Acc')\n",
    "plt.plot(epochs, val_acc_values, 'b', label='Validation Acc')\n",
    "plt.title('Training and validation accuracy')\n",
    "plt.xlabel('Epochs')\n",
    "plt.ylabel('Accuracy')\n",
    "plt.legend()\n",
    "\n",
    "plt.show()"
   ]
  },
  {
   "cell_type": "code",
   "execution_count": 18,
   "metadata": {},
   "outputs": [
    {
     "name": "stdout",
     "output_type": "stream",
     "text": [
      "Epoch 1/10\n",
      "25000/25000 [==============================] - 1s 55us/step - loss: 0.4867 - acc: 0.8168\n",
      "Epoch 2/10\n",
      "25000/25000 [==============================] - 1s 44us/step - loss: 0.2912 - acc: 0.9045\n",
      "Epoch 3/10\n",
      "25000/25000 [==============================] - 1s 44us/step - loss: 0.2198 - acc: 0.9242\n",
      "Epoch 4/10\n",
      "25000/25000 [==============================] - 1s 44us/step - loss: 0.1826 - acc: 0.9355\n",
      "Epoch 5/10\n",
      "25000/25000 [==============================] - 1s 45us/step - loss: 0.1591 - acc: 0.9452\n",
      "Epoch 6/10\n",
      "25000/25000 [==============================] - 1s 44us/step - loss: 0.1416 - acc: 0.9520\n",
      "Epoch 7/10\n",
      "25000/25000 [==============================] - 1s 45us/step - loss: 0.1262 - acc: 0.9575\n",
      "Epoch 8/10\n",
      "25000/25000 [==============================] - 1s 45us/step - loss: 0.1132 - acc: 0.9629\n",
      "Epoch 9/10\n",
      "25000/25000 [==============================] - 1s 45us/step - loss: 0.1029 - acc: 0.9652\n",
      "Epoch 10/10\n",
      "25000/25000 [==============================] - 1s 45us/step - loss: 0.0924 - acc: 0.9712\n",
      "25000/25000 [==============================] - 2s 65us/step\n"
     ]
    },
    {
     "data": {
      "text/plain": [
       "[0.4028178395986557, 0.86592]"
      ]
     },
     "execution_count": 18,
     "metadata": {},
     "output_type": "execute_result"
    }
   ],
   "source": [
    "model = models.Sequential()\n",
    "model.add(layers.Dense(12, activation='relu', input_shape=(10000,)))\n",
    "model.add(layers.Dense(12, activation='relu'))\n",
    "model.add(layers.Dense(1, activation='sigmoid'))\n",
    "\n",
    "model.compile(\n",
    "    optimizer='rmsprop',\n",
    "    loss='binary_crossentropy',\n",
    "    metrics=['accuracy']\n",
    ")\n",
    "\n",
    "history = model.fit(x_train, y_train, epochs=10, batch_size=512)\n",
    "results = model.evaluate(x_test, y_test)\n",
    "results"
   ]
  }
 ],
 "metadata": {
  "kernelspec": {
   "display_name": "Python 2",
   "language": "python",
   "name": "python2"
  },
  "language_info": {
   "codemirror_mode": {
    "name": "ipython",
    "version": 2
   },
   "file_extension": ".py",
   "mimetype": "text/x-python",
   "name": "python",
   "nbconvert_exporter": "python",
   "pygments_lexer": "ipython2",
   "version": "2.7.15"
  }
 },
 "nbformat": 4,
 "nbformat_minor": 2
}
