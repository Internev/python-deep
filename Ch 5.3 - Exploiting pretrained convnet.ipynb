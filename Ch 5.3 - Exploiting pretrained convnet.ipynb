{
 "cells": [
  {
   "cell_type": "code",
   "execution_count": 1,
   "metadata": {},
   "outputs": [
    {
     "name": "stderr",
     "output_type": "stream",
     "text": [
      "/home/n/anaconda2/lib/python2.7/site-packages/h5py/__init__.py:36: FutureWarning: Conversion of the second argument of issubdtype from `float` to `np.floating` is deprecated. In future, it will be treated as `np.float64 == np.dtype(float).type`.\n",
      "  from ._conv import register_converters as _register_converters\n",
      "Using TensorFlow backend.\n"
     ]
    },
    {
     "name": "stdout",
     "output_type": "stream",
     "text": [
      "_________________________________________________________________\n",
      "Layer (type)                 Output Shape              Param #   \n",
      "=================================================================\n",
      "input_1 (InputLayer)         (None, 150, 150, 3)       0         \n",
      "_________________________________________________________________\n",
      "block1_conv1 (Conv2D)        (None, 150, 150, 64)      1792      \n",
      "_________________________________________________________________\n",
      "block1_conv2 (Conv2D)        (None, 150, 150, 64)      36928     \n",
      "_________________________________________________________________\n",
      "block1_pool (MaxPooling2D)   (None, 75, 75, 64)        0         \n",
      "_________________________________________________________________\n",
      "block2_conv1 (Conv2D)        (None, 75, 75, 128)       73856     \n",
      "_________________________________________________________________\n",
      "block2_conv2 (Conv2D)        (None, 75, 75, 128)       147584    \n",
      "_________________________________________________________________\n",
      "block2_pool (MaxPooling2D)   (None, 37, 37, 128)       0         \n",
      "_________________________________________________________________\n",
      "block3_conv1 (Conv2D)        (None, 37, 37, 256)       295168    \n",
      "_________________________________________________________________\n",
      "block3_conv2 (Conv2D)        (None, 37, 37, 256)       590080    \n",
      "_________________________________________________________________\n",
      "block3_conv3 (Conv2D)        (None, 37, 37, 256)       590080    \n",
      "_________________________________________________________________\n",
      "block3_pool (MaxPooling2D)   (None, 18, 18, 256)       0         \n",
      "_________________________________________________________________\n",
      "block4_conv1 (Conv2D)        (None, 18, 18, 512)       1180160   \n",
      "_________________________________________________________________\n",
      "block4_conv2 (Conv2D)        (None, 18, 18, 512)       2359808   \n",
      "_________________________________________________________________\n",
      "block4_conv3 (Conv2D)        (None, 18, 18, 512)       2359808   \n",
      "_________________________________________________________________\n",
      "block4_pool (MaxPooling2D)   (None, 9, 9, 512)         0         \n",
      "_________________________________________________________________\n",
      "block5_conv1 (Conv2D)        (None, 9, 9, 512)         2359808   \n",
      "_________________________________________________________________\n",
      "block5_conv2 (Conv2D)        (None, 9, 9, 512)         2359808   \n",
      "_________________________________________________________________\n",
      "block5_conv3 (Conv2D)        (None, 9, 9, 512)         2359808   \n",
      "_________________________________________________________________\n",
      "block5_pool (MaxPooling2D)   (None, 4, 4, 512)         0         \n",
      "=================================================================\n",
      "Total params: 14,714,688\n",
      "Trainable params: 14,714,688\n",
      "Non-trainable params: 0\n",
      "_________________________________________________________________\n"
     ]
    }
   ],
   "source": [
    "from keras.applications import VGG16\n",
    "\n",
    "conv_base = VGG16(\n",
    "    weights='imagenet',\n",
    "    include_top=False,\n",
    "    input_shape=(150, 150, 3)\n",
    ")\n",
    "\n",
    "conv_base.summary()"
   ]
  },
  {
   "cell_type": "code",
   "execution_count": 3,
   "metadata": {},
   "outputs": [
    {
     "name": "stdout",
     "output_type": "stream",
     "text": [
      "Found 2000 images belonging to 2 classes.\n",
      "Found 1000 images belonging to 2 classes.\n",
      "Found 1000 images belonging to 2 classes.\n"
     ]
    }
   ],
   "source": [
    "import os\n",
    "import numpy as np\n",
    "from keras.preprocessing.image import ImageDataGenerator\n",
    "\n",
    "base_dir = '../../Downloads/all/cats_and_dogs_small/'\n",
    "train_dir = os.path.join(base_dir, 'train')\n",
    "validation_dir = os.path.join(base_dir, 'validation')\n",
    "test_dir = os.path.join(base_dir, 'test')\n",
    "\n",
    "datagen = ImageDataGenerator(rescale=1./255)\n",
    "batch_size = 20\n",
    "\n",
    "def extract_features(directory, sample_count):\n",
    "    features = np.zeros(shape=(sample_count, 4, 4, 512))\n",
    "    labels = np.zeros(shape=(sample_count))\n",
    "    generator = datagen.flow_from_directory(\n",
    "        directory,\n",
    "        target_size=(150, 150),\n",
    "        batch_size=batch_size,\n",
    "        class_mode='binary'\n",
    "    )\n",
    "    i = 0\n",
    "    for inputs_batch, labels_batch in generator:\n",
    "        features_batch = conv_base.predict(inputs_batch)\n",
    "        features[i * batch_size : (i + 1) * batch_size] = features_batch\n",
    "        labels[i * batch_size : (i + 1) * batch_size] = labels_batch\n",
    "        i += 1\n",
    "        if i * batch_size >= sample_count:\n",
    "            break\n",
    "    return features, labels\n",
    "\n",
    "train_features, train_labels = extract_features(train_dir, 2000)\n",
    "validation_features, validation_labels = extract_features(validation_dir, 1000)\n",
    "test_features, test_labels = extract_features(test_dir, 1000)\n",
    "\n",
    "# need to flatten for classifier\n",
    "\n",
    "train_features = np.reshape(train_features, (2000, 4 * 4 * 512))\n",
    "validation_features = np.reshape(validation_features, (1000, 4 * 4 * 512))\n",
    "test_features = np.reshape(test_features, (1000, 4 * 4 * 512))\n"
   ]
  },
  {
   "cell_type": "code",
   "execution_count": 4,
   "metadata": {},
   "outputs": [],
   "source": [
    "from keras import models\n",
    "from keras import layers\n",
    "from keras import optimizers\n",
    "\n",
    "model = models.Sequential()\n",
    "model.add(layers.Dense(256, activation='relu', input_dim=4 * 4 * 512))\n",
    "model.add(layers.Dropout(0.5))\n",
    "model.add(layers.Dense(1, activation='sigmoid'))\n",
    "\n",
    "model.compile(\n",
    "    optimizer=optimizers.RMSprop(lr=2e-5),\n",
    "    loss='binary_crossentropy',\n",
    "    metrics=['acc']\n",
    ")"
   ]
  },
  {
   "cell_type": "code",
   "execution_count": null,
   "metadata": {},
   "outputs": [],
   "source": [
    "history = model.fit(\n",
    "    train_features,\n",
    "    train_labels,\n",
    "    epochs=30,\n",
    "    batch_size=20,\n",
    "    validation_data=(validation_features, validation_labels)\n",
    ")"
   ]
  },
  {
   "cell_type": "code",
   "execution_count": null,
   "metadata": {},
   "outputs": [],
   "source": [
    "import matplotlib.pyplot as plt\n",
    "\n",
    "acc = history.history['acc']\n",
    "val_acc = history.history['val_acc']\n",
    "loss = history.history['loss']\n",
    "val_loss = history.history['val_loss']\n",
    "epochs = range(1, len(acc) + 1)\n",
    "\n",
    "plt.plot(epochs, acc, 'bo', label='Training acc')\n",
    "plt.plot(epochs, val_acc, 'b', label='Validation acc')\n",
    "plt.title('Training and validation accuracy')\n",
    "plt.legend()\n",
    "\n",
    "plt.figure()\n",
    "\n",
    "plt.plot(epochs, loss, 'bo', label='Training loss')\n",
    "plt.plot(epochs, val_loss, 'b', label='Validation loss')\n",
    "plt.title('Training and validation loss')\n",
    "plt.legend()\n",
    "\n",
    "plt.show()"
   ]
  },
  {
   "cell_type": "markdown",
   "metadata": {},
   "source": [
    "Instead of simply using the pretrained convnet and only running data through our classifier at the end (above), we can instead pass our data through the entire pretrained network and our classifier (below). This gives us the chance to exploit feature augmentation to reduce overfitting. It is far more computationally expensive however.\n",
    "\n",
    "We can just use an entire trained convnet as a layer in our model(!)."
   ]
  },
  {
   "cell_type": "code",
   "execution_count": 11,
   "metadata": {},
   "outputs": [
    {
     "name": "stdout",
     "output_type": "stream",
     "text": [
      "_________________________________________________________________\n",
      "Layer (type)                 Output Shape              Param #   \n",
      "=================================================================\n",
      "vgg16 (Model)                (None, 4, 4, 512)         14714688  \n",
      "_________________________________________________________________\n",
      "flatten_2 (Flatten)          (None, 8192)              0         \n",
      "_________________________________________________________________\n",
      "dense_5 (Dense)              (None, 256)               2097408   \n",
      "_________________________________________________________________\n",
      "dense_6 (Dense)              (None, 1)                 257       \n",
      "=================================================================\n",
      "Total params: 16,812,353\n",
      "Trainable params: 2,097,665\n",
      "Non-trainable params: 14,714,688\n",
      "_________________________________________________________________\n"
     ]
    }
   ],
   "source": [
    "from keras import models\n",
    "from keras import layers\n",
    "\n",
    "model = models.Sequential()\n",
    "model.add(conv_base)\n",
    "model.add(layers.Flatten())\n",
    "model.add(layers.Dense(256, activation='relu'))\n",
    "model.add(layers.Dense(1, activation='sigmoid'))\n",
    "\n",
    "model.summary()"
   ]
  },
  {
   "cell_type": "markdown",
   "metadata": {},
   "source": [
    "We need to take care to freeze the pretrained convnet so we don't pollute it with our random starting weights. And also compile the model once we've made these changes."
   ]
  },
  {
   "cell_type": "code",
   "execution_count": 10,
   "metadata": {},
   "outputs": [],
   "source": [
    "conv_base.trainable = False\n",
    "\n",
    "model.compile(\n",
    "    optimizer=optimizers.RMSprop(lr=2e-5),\n",
    "    loss='binary_crossentropy',\n",
    "    metrics=['acc']\n",
    ")"
   ]
  },
  {
   "cell_type": "markdown",
   "metadata": {},
   "source": [
    "Now we can augment our training data."
   ]
  },
  {
   "cell_type": "code",
   "execution_count": 9,
   "metadata": {},
   "outputs": [
    {
     "name": "stdout",
     "output_type": "stream",
     "text": [
      "Found 2000 images belonging to 2 classes.\n",
      "Found 1000 images belonging to 2 classes.\n"
     ]
    }
   ],
   "source": [
    "train_datagen = ImageDataGenerator(\n",
    "    rescale=1./255,\n",
    "    rotation_range=40,\n",
    "    width_shift_range=0.2,\n",
    "    height_shift_range=0.2,\n",
    "    shear_range=0.2,\n",
    "    zoom_range=0.2,\n",
    "    horizontal_flip=True,\n",
    "    fill_mode='nearest'\n",
    ")\n",
    "\n",
    "test_datagen = ImageDataGenerator(rescale=1./255)\n",
    "\n",
    "train_generator = train_datagen.flow_from_directory(\n",
    "    train_dir,\n",
    "    target_size=(150, 150),\n",
    "    batch_size=20,\n",
    "    class_mode='binary'\n",
    ")\n",
    "\n",
    "validation_generator = test_datagen.flow_from_directory(\n",
    "    validation_dir,\n",
    "    target_size=(150, 150),\n",
    "    batch_size=20,\n",
    "    class_mode='binary'\n",
    ")"
   ]
  },
  {
   "cell_type": "markdown",
   "metadata": {},
   "source": [
    "Remember: steps_per_epoch/validation_steps are based on multiplying the batch_size (in generator) with steps, to get the total. So we have 2000 training items, and 1000 test items (20 * 100 and 20 * 50 respectively)."
   ]
  },
  {
   "cell_type": "code",
   "execution_count": null,
   "metadata": {},
   "outputs": [],
   "source": [
    "history = model.fit_generator(\n",
    "    train_generator,\n",
    "    steps_per_epoch=100,\n",
    "    epochs=30,\n",
    "    validation_data=validation_generator,\n",
    "    validation_steps=50\n",
    ")"
   ]
  },
  {
   "cell_type": "code",
   "execution_count": null,
   "metadata": {},
   "outputs": [],
   "source": [
    "acc = history.history['acc']\n",
    "val_acc = history.history['val_acc']\n",
    "loss = history.history['loss']\n",
    "val_loss = history.history['val_loss']\n",
    "epochs = range(1, len(acc) + 1)\n",
    "\n",
    "plt.plot(epochs, acc, 'bo', label='Training acc')\n",
    "plt.plot(epochs, val_acc, 'b', label='Validation acc')\n",
    "plt.title('Training and validation accuracy')\n",
    "plt.legend()\n",
    "\n",
    "plt.figure()\n",
    "\n",
    "plt.plot(epochs, loss, 'bo', label='Training loss')\n",
    "plt.plot(epochs, val_loss, 'b', label='Validation loss')\n",
    "plt.title('Training and validation loss')\n",
    "plt.legend()\n",
    "\n",
    "plt.show()"
   ]
  },
  {
   "cell_type": "markdown",
   "metadata": {},
   "source": [
    "To get higher accuracy we can freeze only some blocks within the pretrained convnet. The deeper (earlier) layers in the network are more general and thus probably more useful to our situation, so we only want to freeze higher (later) layers where they get more specific to their training data (instead of ours). "
   ]
  },
  {
   "cell_type": "code",
   "execution_count": 12,
   "metadata": {},
   "outputs": [],
   "source": [
    "conv_base.trainable = True\n",
    "\n",
    "set_trainable = False\n",
    "for layer in conv_base.layers:\n",
    "    if layer.name == 'block5_conv1':\n",
    "        set_trainable = True\n",
    "    if set_trainable:\n",
    "        layer.trainable = True\n",
    "    else:\n",
    "        layer.trainable = False\n",
    "        "
   ]
  },
  {
   "cell_type": "markdown",
   "metadata": {},
   "source": [
    "We use a lower learning rate here so our data doesn't make too big of an impact on the final layers we're tweaking. They're already ok, we just want to give them a little influence from our data to improve our results. A large learning rate would skew them too much and make them less useful than untweaked ones."
   ]
  },
  {
   "cell_type": "code",
   "execution_count": 13,
   "metadata": {},
   "outputs": [],
   "source": [
    "model.compile(\n",
    "    loss='binary_crossentropy',\n",
    "    optimizer=optimizers.RMSprop(lr=1e-5),\n",
    "    metrics=['acc']\n",
    ")"
   ]
  },
  {
   "cell_type": "code",
   "execution_count": 14,
   "metadata": {},
   "outputs": [
    {
     "name": "stdout",
     "output_type": "stream",
     "text": [
      "Epoch 1/100\n",
      "100/100 [==============================] - 16s 157ms/step - loss: 0.5531 - acc: 0.7195 - val_loss: 0.3554 - val_acc: 0.8630\n",
      "Epoch 2/100\n",
      "100/100 [==============================] - 15s 150ms/step - loss: 0.3832 - acc: 0.8380 - val_loss: 0.2609 - val_acc: 0.8870\n",
      "Epoch 3/100\n",
      "100/100 [==============================] - 15s 148ms/step - loss: 0.3328 - acc: 0.8530 - val_loss: 0.2204 - val_acc: 0.9080\n",
      "Epoch 4/100\n",
      "100/100 [==============================] - 14s 144ms/step - loss: 0.2951 - acc: 0.8700 - val_loss: 0.2209 - val_acc: 0.9020\n",
      "Epoch 5/100\n",
      "100/100 [==============================] - 15s 146ms/step - loss: 0.2609 - acc: 0.8880 - val_loss: 0.2028 - val_acc: 0.9170\n",
      "Epoch 6/100\n",
      "100/100 [==============================] - 15s 146ms/step - loss: 0.2459 - acc: 0.8915 - val_loss: 0.1903 - val_acc: 0.9190\n",
      "Epoch 7/100\n",
      "100/100 [==============================] - 15s 148ms/step - loss: 0.2434 - acc: 0.8965 - val_loss: 0.2035 - val_acc: 0.9080\n",
      "Epoch 8/100\n",
      "100/100 [==============================] - 15s 151ms/step - loss: 0.2199 - acc: 0.9075 - val_loss: 0.1998 - val_acc: 0.9090\n",
      "Epoch 9/100\n",
      "100/100 [==============================] - 15s 149ms/step - loss: 0.2167 - acc: 0.9085 - val_loss: 0.1730 - val_acc: 0.9290\n",
      "Epoch 10/100\n",
      "100/100 [==============================] - 15s 150ms/step - loss: 0.2112 - acc: 0.9065 - val_loss: 0.1610 - val_acc: 0.9360\n",
      "Epoch 11/100\n",
      "100/100 [==============================] - 15s 150ms/step - loss: 0.2043 - acc: 0.9240 - val_loss: 0.1817 - val_acc: 0.9270\n",
      "Epoch 12/100\n",
      "100/100 [==============================] - 15s 150ms/step - loss: 0.1903 - acc: 0.9260 - val_loss: 0.1640 - val_acc: 0.9290\n",
      "Epoch 13/100\n",
      "100/100 [==============================] - 15s 147ms/step - loss: 0.1692 - acc: 0.9330 - val_loss: 0.1565 - val_acc: 0.9360\n",
      "Epoch 14/100\n",
      "100/100 [==============================] - 14s 145ms/step - loss: 0.1659 - acc: 0.9355 - val_loss: 0.1619 - val_acc: 0.9340\n",
      "Epoch 15/100\n",
      "100/100 [==============================] - 15s 150ms/step - loss: 0.1557 - acc: 0.9370 - val_loss: 0.1666 - val_acc: 0.9290\n",
      "Epoch 16/100\n",
      "100/100 [==============================] - 15s 149ms/step - loss: 0.1500 - acc: 0.9375 - val_loss: 0.1655 - val_acc: 0.9310\n",
      "Epoch 17/100\n",
      "100/100 [==============================] - 15s 149ms/step - loss: 0.1462 - acc: 0.9430 - val_loss: 0.1557 - val_acc: 0.9330\n",
      "Epoch 18/100\n",
      "100/100 [==============================] - 15s 149ms/step - loss: 0.1483 - acc: 0.9355 - val_loss: 0.1630 - val_acc: 0.9320\n",
      "Epoch 19/100\n",
      "100/100 [==============================] - 15s 149ms/step - loss: 0.1467 - acc: 0.9485 - val_loss: 0.1534 - val_acc: 0.9350\n",
      "Epoch 20/100\n",
      "100/100 [==============================] - 15s 150ms/step - loss: 0.1300 - acc: 0.9435 - val_loss: 0.1538 - val_acc: 0.9340\n",
      "Epoch 21/100\n",
      "100/100 [==============================] - 15s 147ms/step - loss: 0.1356 - acc: 0.9430 - val_loss: 0.1479 - val_acc: 0.9360\n",
      "Epoch 22/100\n",
      "100/100 [==============================] - 15s 150ms/step - loss: 0.1213 - acc: 0.9555 - val_loss: 0.1526 - val_acc: 0.9310\n",
      "Epoch 23/100\n",
      "100/100 [==============================] - 15s 146ms/step - loss: 0.1222 - acc: 0.9475 - val_loss: 0.1791 - val_acc: 0.9220\n",
      "Epoch 24/100\n",
      "100/100 [==============================] - 15s 146ms/step - loss: 0.1167 - acc: 0.9560 - val_loss: 0.1565 - val_acc: 0.9390\n",
      "Epoch 25/100\n",
      "100/100 [==============================] - 14s 144ms/step - loss: 0.1089 - acc: 0.9605 - val_loss: 0.2123 - val_acc: 0.9160\n",
      "Epoch 26/100\n",
      "100/100 [==============================] - 14s 144ms/step - loss: 0.1057 - acc: 0.9570 - val_loss: 0.1888 - val_acc: 0.9230\n",
      "Epoch 27/100\n",
      "100/100 [==============================] - 14s 145ms/step - loss: 0.1113 - acc: 0.9550 - val_loss: 0.1594 - val_acc: 0.9350\n",
      "Epoch 28/100\n",
      "100/100 [==============================] - 14s 144ms/step - loss: 0.0943 - acc: 0.9625 - val_loss: 0.1947 - val_acc: 0.9200\n",
      "Epoch 29/100\n",
      "100/100 [==============================] - 14s 144ms/step - loss: 0.1007 - acc: 0.9605 - val_loss: 0.2238 - val_acc: 0.9210\n",
      "Epoch 30/100\n",
      "100/100 [==============================] - 14s 144ms/step - loss: 0.0913 - acc: 0.9590 - val_loss: 0.1760 - val_acc: 0.9300\n",
      "Epoch 31/100\n",
      "100/100 [==============================] - 14s 145ms/step - loss: 0.0922 - acc: 0.9600 - val_loss: 0.1631 - val_acc: 0.9370\n",
      "Epoch 32/100\n",
      "100/100 [==============================] - 14s 145ms/step - loss: 0.0804 - acc: 0.9715 - val_loss: 0.1961 - val_acc: 0.9230\n",
      "Epoch 33/100\n",
      "100/100 [==============================] - 14s 145ms/step - loss: 0.0929 - acc: 0.9625 - val_loss: 0.1836 - val_acc: 0.9260\n",
      "Epoch 34/100\n",
      "100/100 [==============================] - 14s 144ms/step - loss: 0.0708 - acc: 0.9755 - val_loss: 0.1743 - val_acc: 0.9320\n",
      "Epoch 35/100\n",
      "100/100 [==============================] - 14s 144ms/step - loss: 0.0847 - acc: 0.9660 - val_loss: 0.2776 - val_acc: 0.9160\n",
      "Epoch 36/100\n",
      "100/100 [==============================] - 14s 144ms/step - loss: 0.0717 - acc: 0.9700 - val_loss: 0.1687 - val_acc: 0.9380\n",
      "Epoch 37/100\n",
      "100/100 [==============================] - 14s 145ms/step - loss: 0.0839 - acc: 0.9695 - val_loss: 0.1687 - val_acc: 0.9330\n",
      "Epoch 38/100\n",
      "100/100 [==============================] - 14s 144ms/step - loss: 0.0633 - acc: 0.9725 - val_loss: 0.1870 - val_acc: 0.9360\n",
      "Epoch 39/100\n",
      "100/100 [==============================] - 14s 144ms/step - loss: 0.0779 - acc: 0.9720 - val_loss: 0.2037 - val_acc: 0.9340\n",
      "Epoch 40/100\n",
      "100/100 [==============================] - 14s 145ms/step - loss: 0.0692 - acc: 0.9725 - val_loss: 0.2775 - val_acc: 0.9130\n",
      "Epoch 41/100\n",
      "100/100 [==============================] - 14s 144ms/step - loss: 0.0722 - acc: 0.9695 - val_loss: 0.1867 - val_acc: 0.9290\n",
      "Epoch 42/100\n",
      "100/100 [==============================] - 14s 144ms/step - loss: 0.0715 - acc: 0.9705 - val_loss: 0.1668 - val_acc: 0.9380\n",
      "Epoch 43/100\n",
      "100/100 [==============================] - 15s 148ms/step - loss: 0.0786 - acc: 0.9700 - val_loss: 0.1753 - val_acc: 0.9360\n",
      "Epoch 44/100\n",
      "100/100 [==============================] - 15s 146ms/step - loss: 0.0687 - acc: 0.9710 - val_loss: 0.1610 - val_acc: 0.9410\n",
      "Epoch 45/100\n",
      "100/100 [==============================] - 14s 144ms/step - loss: 0.0550 - acc: 0.9805 - val_loss: 0.1953 - val_acc: 0.9370\n",
      "Epoch 46/100\n",
      "100/100 [==============================] - 15s 150ms/step - loss: 0.0580 - acc: 0.9790 - val_loss: 0.1826 - val_acc: 0.9380\n",
      "Epoch 47/100\n",
      "100/100 [==============================] - 15s 146ms/step - loss: 0.0718 - acc: 0.9705 - val_loss: 0.1959 - val_acc: 0.9370\n",
      "Epoch 48/100\n",
      "100/100 [==============================] - 15s 147ms/step - loss: 0.0730 - acc: 0.9745 - val_loss: 0.1957 - val_acc: 0.9300\n",
      "Epoch 49/100\n",
      "100/100 [==============================] - 14s 145ms/step - loss: 0.0617 - acc: 0.9750 - val_loss: 0.1844 - val_acc: 0.9370\n",
      "Epoch 50/100\n",
      "100/100 [==============================] - 15s 145ms/step - loss: 0.0451 - acc: 0.9860 - val_loss: 0.1832 - val_acc: 0.9390\n",
      "Epoch 51/100\n",
      "100/100 [==============================] - 15s 146ms/step - loss: 0.0579 - acc: 0.9795 - val_loss: 0.2067 - val_acc: 0.9300\n",
      "Epoch 52/100\n",
      "100/100 [==============================] - 15s 152ms/step - loss: 0.0532 - acc: 0.9795 - val_loss: 0.1845 - val_acc: 0.9340\n",
      "Epoch 53/100\n",
      "100/100 [==============================] - 15s 149ms/step - loss: 0.0566 - acc: 0.9805 - val_loss: 0.2249 - val_acc: 0.9300\n",
      "Epoch 54/100\n",
      "100/100 [==============================] - 15s 149ms/step - loss: 0.0560 - acc: 0.9815 - val_loss: 0.2425 - val_acc: 0.9260\n",
      "Epoch 55/100\n",
      "100/100 [==============================] - 15s 149ms/step - loss: 0.0436 - acc: 0.9810 - val_loss: 0.2258 - val_acc: 0.9340\n",
      "Epoch 56/100\n",
      "100/100 [==============================] - 15s 149ms/step - loss: 0.0569 - acc: 0.9785 - val_loss: 0.1755 - val_acc: 0.9380\n",
      "Epoch 57/100\n",
      "100/100 [==============================] - 15s 149ms/step - loss: 0.0512 - acc: 0.9795 - val_loss: 0.3541 - val_acc: 0.9190\n",
      "Epoch 58/100\n",
      "100/100 [==============================] - 15s 149ms/step - loss: 0.0505 - acc: 0.9840 - val_loss: 0.1849 - val_acc: 0.9440\n",
      "Epoch 59/100\n",
      "100/100 [==============================] - 15s 149ms/step - loss: 0.0435 - acc: 0.9840 - val_loss: 0.2575 - val_acc: 0.9280\n",
      "Epoch 60/100\n",
      "100/100 [==============================] - 15s 149ms/step - loss: 0.0447 - acc: 0.9825 - val_loss: 0.2823 - val_acc: 0.9270\n"
     ]
    },
    {
     "name": "stdout",
     "output_type": "stream",
     "text": [
      "Epoch 61/100\n",
      "100/100 [==============================] - 15s 149ms/step - loss: 0.0410 - acc: 0.9850 - val_loss: 0.1956 - val_acc: 0.9380\n",
      "Epoch 62/100\n",
      "100/100 [==============================] - 15s 149ms/step - loss: 0.0394 - acc: 0.9865 - val_loss: 0.2592 - val_acc: 0.9190\n",
      "Epoch 63/100\n",
      "100/100 [==============================] - 15s 152ms/step - loss: 0.0430 - acc: 0.9845 - val_loss: 0.2044 - val_acc: 0.9360\n",
      "Epoch 64/100\n",
      "100/100 [==============================] - 15s 149ms/step - loss: 0.0404 - acc: 0.9835 - val_loss: 0.2332 - val_acc: 0.9330\n",
      "Epoch 65/100\n",
      "100/100 [==============================] - 15s 149ms/step - loss: 0.0346 - acc: 0.9880 - val_loss: 0.2383 - val_acc: 0.9320\n",
      "Epoch 66/100\n",
      "100/100 [==============================] - 15s 148ms/step - loss: 0.0409 - acc: 0.9855 - val_loss: 0.2099 - val_acc: 0.9330\n",
      "Epoch 67/100\n",
      "100/100 [==============================] - 15s 149ms/step - loss: 0.0402 - acc: 0.9860 - val_loss: 0.2646 - val_acc: 0.9230\n",
      "Epoch 68/100\n",
      "100/100 [==============================] - 15s 149ms/step - loss: 0.0374 - acc: 0.9875 - val_loss: 0.2247 - val_acc: 0.9350\n",
      "Epoch 69/100\n",
      "100/100 [==============================] - 15s 149ms/step - loss: 0.0316 - acc: 0.9880 - val_loss: 0.1953 - val_acc: 0.9370\n",
      "Epoch 70/100\n",
      "100/100 [==============================] - 15s 149ms/step - loss: 0.0410 - acc: 0.9820 - val_loss: 0.2218 - val_acc: 0.9360\n",
      "Epoch 71/100\n",
      "100/100 [==============================] - 15s 149ms/step - loss: 0.0421 - acc: 0.9855 - val_loss: 0.2092 - val_acc: 0.9320\n",
      "Epoch 72/100\n",
      "100/100 [==============================] - 15s 149ms/step - loss: 0.0338 - acc: 0.9875 - val_loss: 0.1933 - val_acc: 0.9350\n",
      "Epoch 73/100\n",
      "100/100 [==============================] - 15s 148ms/step - loss: 0.0321 - acc: 0.9875 - val_loss: 0.2704 - val_acc: 0.9300\n",
      "Epoch 74/100\n",
      "100/100 [==============================] - 15s 149ms/step - loss: 0.0328 - acc: 0.9870 - val_loss: 0.2687 - val_acc: 0.9320\n",
      "Epoch 75/100\n",
      "100/100 [==============================] - 15s 149ms/step - loss: 0.0327 - acc: 0.9885 - val_loss: 0.2519 - val_acc: 0.9300\n",
      "Epoch 76/100\n",
      "100/100 [==============================] - 15s 148ms/step - loss: 0.0277 - acc: 0.9900 - val_loss: 0.2191 - val_acc: 0.9340\n",
      "Epoch 77/100\n",
      "100/100 [==============================] - 15s 149ms/step - loss: 0.0303 - acc: 0.9900 - val_loss: 0.2501 - val_acc: 0.9410\n",
      "Epoch 78/100\n",
      "100/100 [==============================] - 15s 149ms/step - loss: 0.0294 - acc: 0.9865 - val_loss: 0.2145 - val_acc: 0.9440\n",
      "Epoch 79/100\n",
      "100/100 [==============================] - 15s 149ms/step - loss: 0.0401 - acc: 0.9855 - val_loss: 0.2665 - val_acc: 0.9320\n",
      "Epoch 80/100\n",
      "100/100 [==============================] - 15s 148ms/step - loss: 0.0300 - acc: 0.9890 - val_loss: 0.3565 - val_acc: 0.9250\n",
      "Epoch 81/100\n",
      "100/100 [==============================] - 15s 149ms/step - loss: 0.0404 - acc: 0.9885 - val_loss: 0.2992 - val_acc: 0.9330\n",
      "Epoch 82/100\n",
      "100/100 [==============================] - 15s 149ms/step - loss: 0.0250 - acc: 0.9935 - val_loss: 0.4453 - val_acc: 0.9120\n",
      "Epoch 83/100\n",
      "100/100 [==============================] - 15s 152ms/step - loss: 0.0301 - acc: 0.9900 - val_loss: 0.2337 - val_acc: 0.9390\n",
      "Epoch 84/100\n",
      "100/100 [==============================] - 15s 148ms/step - loss: 0.0275 - acc: 0.9890 - val_loss: 0.3071 - val_acc: 0.9220\n",
      "Epoch 85/100\n",
      "100/100 [==============================] - 15s 148ms/step - loss: 0.0233 - acc: 0.9905 - val_loss: 0.2630 - val_acc: 0.9340\n",
      "Epoch 86/100\n",
      "100/100 [==============================] - 15s 149ms/step - loss: 0.0300 - acc: 0.9890 - val_loss: 0.2649 - val_acc: 0.9300\n",
      "Epoch 87/100\n",
      "100/100 [==============================] - 15s 149ms/step - loss: 0.0258 - acc: 0.9895 - val_loss: 0.2410 - val_acc: 0.9350\n",
      "Epoch 88/100\n",
      "100/100 [==============================] - 15s 149ms/step - loss: 0.0340 - acc: 0.9880 - val_loss: 0.3297 - val_acc: 0.9220\n",
      "Epoch 89/100\n",
      "100/100 [==============================] - 15s 149ms/step - loss: 0.0352 - acc: 0.9885 - val_loss: 0.2541 - val_acc: 0.9390\n",
      "Epoch 90/100\n",
      "100/100 [==============================] - 15s 149ms/step - loss: 0.0245 - acc: 0.9920 - val_loss: 0.3371 - val_acc: 0.9250\n",
      "Epoch 91/100\n",
      "100/100 [==============================] - 15s 149ms/step - loss: 0.0203 - acc: 0.9935 - val_loss: 0.2886 - val_acc: 0.9320\n",
      "Epoch 92/100\n",
      "100/100 [==============================] - 15s 148ms/step - loss: 0.0211 - acc: 0.9930 - val_loss: 0.2723 - val_acc: 0.9360\n",
      "Epoch 93/100\n",
      "100/100 [==============================] - 15s 148ms/step - loss: 0.0286 - acc: 0.9910 - val_loss: 0.2368 - val_acc: 0.9390\n",
      "Epoch 94/100\n",
      "100/100 [==============================] - 15s 149ms/step - loss: 0.0208 - acc: 0.9925 - val_loss: 0.2951 - val_acc: 0.9310\n",
      "Epoch 95/100\n",
      "100/100 [==============================] - 15s 149ms/step - loss: 0.0258 - acc: 0.9895 - val_loss: 0.2699 - val_acc: 0.9360\n",
      "Epoch 96/100\n",
      "100/100 [==============================] - 15s 148ms/step - loss: 0.0175 - acc: 0.9930 - val_loss: 0.2868 - val_acc: 0.9350\n",
      "Epoch 97/100\n",
      "100/100 [==============================] - 15s 149ms/step - loss: 0.0254 - acc: 0.9900 - val_loss: 0.2623 - val_acc: 0.9380\n",
      "Epoch 98/100\n",
      "100/100 [==============================] - 15s 148ms/step - loss: 0.0308 - acc: 0.9875 - val_loss: 0.2337 - val_acc: 0.9430\n",
      "Epoch 99/100\n",
      "100/100 [==============================] - 15s 149ms/step - loss: 0.0216 - acc: 0.9915 - val_loss: 0.2731 - val_acc: 0.9410\n",
      "Epoch 100/100\n",
      "100/100 [==============================] - 15s 148ms/step - loss: 0.0256 - acc: 0.9930 - val_loss: 0.2898 - val_acc: 0.9320\n"
     ]
    }
   ],
   "source": [
    "history = model.fit_generator(\n",
    "    train_generator,\n",
    "    steps_per_epoch=100,\n",
    "    epochs=100,\n",
    "    validation_data=validation_generator,\n",
    "    validation_steps=50\n",
    ")"
   ]
  },
  {
   "cell_type": "code",
   "execution_count": 17,
   "metadata": {},
   "outputs": [
    {
     "data": {
      "image/png": "[encoded data removed]",
      "text/plain": [
       "<Figure size 432x288 with 1 Axes>"
      ]
     },
     "metadata": {},
     "output_type": "display_data"
    },
    {
     "data": {
      "image/png": "[encoded data removed]",
      "text/plain": [
       "<Figure size 432x288 with 1 Axes>"
      ]
     },
     "metadata": {},
     "output_type": "display_data"
    }
   ],
   "source": [
    "import matplotlib.pyplot as plt\n",
    "\n",
    "acc = history.history['acc']\n",
    "val_acc = history.history['val_acc']\n",
    "loss = history.history['loss']\n",
    "val_loss = history.history['val_loss']\n",
    "epochs = range(1, len(acc) + 1)\n",
    "\n",
    "plt.plot(epochs, acc, 'bo', label='Training acc')\n",
    "plt.plot(epochs, val_acc, 'b', label='Validation acc')\n",
    "plt.title('Training and validation accuracy')\n",
    "plt.legend()\n",
    "\n",
    "plt.figure()\n",
    "\n",
    "plt.plot(epochs, loss, 'bo', label='Training loss')\n",
    "plt.plot(epochs, val_loss, 'b', label='Validation loss')\n",
    "plt.title('Training and validation loss')\n",
    "plt.legend()\n",
    "\n",
    "plt.show()"
   ]
  },
  {
   "cell_type": "code",
   "execution_count": 18,
   "metadata": {},
   "outputs": [
    {
     "name": "stdout",
     "output_type": "stream",
     "text": [
      "Found 1000 images belonging to 2 classes.\n",
      "('test accuracy:', 0.9379999923706055)\n"
     ]
    }
   ],
   "source": [
    "test_generator = test_datagen.flow_from_directory(\n",
    "    test_dir,\n",
    "    target_size=(150, 150),\n",
    "    batch_size=20,\n",
    "    class_mode='binary'\n",
    ")\n",
    "\n",
    "test_loss, test_acc = model.evaluate_generator(test_generator, steps=50)\n",
    "\n",
    "print('test accuracy:', test_acc)"
   ]
  }
 ],
 "metadata": {
  "kernelspec": {
   "display_name": "Python 2",
   "language": "python",
   "name": "python2"
  },
  "language_info": {
   "codemirror_mode": {
    "name": "ipython",
    "version": 2
   },
   "file_extension": ".py",
   "mimetype": "text/x-python",
   "name": "python",
   "nbconvert_exporter": "python",
   "pygments_lexer": "ipython2",
   "version": "2.7.15"
  }
 },
 "nbformat": 4,
 "nbformat_minor": 2
}
