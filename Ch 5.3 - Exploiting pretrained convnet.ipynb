{
 "cells": [
  {
   "cell_type": "code",
   "execution_count": 1,
   "metadata": {},
   "outputs": [
    {
     "name": "stderr",
     "output_type": "stream",
     "text": [
      "/home/n/anaconda2/lib/python2.7/site-packages/h5py/__init__.py:36: FutureWarning: Conversion of the second argument of issubdtype from `float` to `np.floating` is deprecated. In future, it will be treated as `np.float64 == np.dtype(float).type`.\n",
      "  from ._conv import register_converters as _register_converters\n",
      "Using TensorFlow backend.\n"
     ]
    },
    {
     "name": "stdout",
     "output_type": "stream",
     "text": [
      "_________________________________________________________________\n",
      "Layer (type)                 Output Shape              Param #   \n",
      "=================================================================\n",
      "input_1 (InputLayer)         (None, 150, 150, 3)       0         \n",
      "_________________________________________________________________\n",
      "block1_conv1 (Conv2D)        (None, 150, 150, 64)      1792      \n",
      "_________________________________________________________________\n",
      "block1_conv2 (Conv2D)        (None, 150, 150, 64)      36928     \n",
      "_________________________________________________________________\n",
      "block1_pool (MaxPooling2D)   (None, 75, 75, 64)        0         \n",
      "_________________________________________________________________\n",
      "block2_conv1 (Conv2D)        (None, 75, 75, 128)       73856     \n",
      "_________________________________________________________________\n",
      "block2_conv2 (Conv2D)        (None, 75, 75, 128)       147584    \n",
      "_________________________________________________________________\n",
      "block2_pool (MaxPooling2D)   (None, 37, 37, 128)       0         \n",
      "_________________________________________________________________\n",
      "block3_conv1 (Conv2D)        (None, 37, 37, 256)       295168    \n",
      "_________________________________________________________________\n",
      "block3_conv2 (Conv2D)        (None, 37, 37, 256)       590080    \n",
      "_________________________________________________________________\n",
      "block3_conv3 (Conv2D)        (None, 37, 37, 256)       590080    \n",
      "_________________________________________________________________\n",
      "block3_pool (MaxPooling2D)   (None, 18, 18, 256)       0         \n",
      "_________________________________________________________________\n",
      "block4_conv1 (Conv2D)        (None, 18, 18, 512)       1180160   \n",
      "_________________________________________________________________\n",
      "block4_conv2 (Conv2D)        (None, 18, 18, 512)       2359808   \n",
      "_________________________________________________________________\n",
      "block4_conv3 (Conv2D)        (None, 18, 18, 512)       2359808   \n",
      "_________________________________________________________________\n",
      "block4_pool (MaxPooling2D)   (None, 9, 9, 512)         0         \n",
      "_________________________________________________________________\n",
      "block5_conv1 (Conv2D)        (None, 9, 9, 512)         2359808   \n",
      "_________________________________________________________________\n",
      "block5_conv2 (Conv2D)        (None, 9, 9, 512)         2359808   \n",
      "_________________________________________________________________\n",
      "block5_conv3 (Conv2D)        (None, 9, 9, 512)         2359808   \n",
      "_________________________________________________________________\n",
      "block5_pool (MaxPooling2D)   (None, 4, 4, 512)         0         \n",
      "=================================================================\n",
      "Total params: 14,714,688\n",
      "Trainable params: 14,714,688\n",
      "Non-trainable params: 0\n",
      "_________________________________________________________________\n"
     ]
    }
   ],
   "source": [
    "from keras.applications import VGG16\n",
    "\n",
    "conv_base = VGG16(\n",
    "    weights='imagenet',\n",
    "    include_top=False,\n",
    "    input_shape=(150, 150, 3)\n",
    ")\n",
    "\n",
    "conv_base.summary()"
   ]
  },
  {
   "cell_type": "code",
   "execution_count": 2,
   "metadata": {},
   "outputs": [
    {
     "name": "stdout",
     "output_type": "stream",
     "text": [
      "Found 2000 images belonging to 2 classes.\n",
      "Found 1000 images belonging to 2 classes.\n",
      "Found 1000 images belonging to 2 classes.\n"
     ]
    }
   ],
   "source": [
    "import os\n",
    "import numpy as np\n",
    "from keras.preprocessing.image import ImageDataGenerator\n",
    "\n",
    "base_dir = '../../Downloads/all/cats_and_dogs_small/'\n",
    "train_dir = os.path.join(base_dir, 'train')\n",
    "validation_dir = os.path.join(base_dir, 'validation')\n",
    "test_dir = os.path.join(base_dir, 'test')\n",
    "\n",
    "datagen = ImageDataGenerator(rescale=1./255)\n",
    "batch_size = 20\n",
    "\n",
    "def extract_features(directory, sample_count):\n",
    "    features = np.zeros(shape=(sample_count, 4, 4, 512))\n",
    "    labels = np.zeros(shape=(sample_count))\n",
    "    generator = datagen.flow_from_directory(\n",
    "        directory,\n",
    "        target_size=(150, 150),\n",
    "        batch_size=batch_size,\n",
    "        class_mode='binary'\n",
    "    )\n",
    "    i = 0\n",
    "    for inputs_batch, labels_batch in generator:\n",
    "        features_batch = conv_base.predict(inputs_batch)\n",
    "        features[i * batch_size : (i + 1) * batch_size] = features_batch\n",
    "        labels[i * batch_size : (i + 1) * batch_size] = labels_batch\n",
    "        i += 1\n",
    "        if i * batch_size >= sample_count:\n",
    "            break\n",
    "    return features, labels\n",
    "\n",
    "train_features, train_labels = extract_features(train_dir, 2000)\n",
    "validation_features, validation_labels = extract_features(validation_dir, 1000)\n",
    "test_features, test_labels = extract_features(test_dir, 1000)\n",
    "\n",
    "# need to flatten for classifier\n",
    "\n",
    "train_features = np.reshape(train_features, (2000, 4 * 4 * 512))\n",
    "validation_features = np.reshape(validation_features, (1000, 4 * 4 * 512))\n",
    "test_features = np.reshape(test_features, (1000, 4 * 4 * 512))\n"
   ]
  },
  {
   "cell_type": "code",
   "execution_count": 3,
   "metadata": {},
   "outputs": [],
   "source": [
    "from keras import models\n",
    "from keras import layers\n",
    "from keras import optimizers\n",
    "\n",
    "model = models.Sequential()\n",
    "model.add(layers.Dense(256, activation='relu', input_dim=4 * 4 * 512))\n",
    "model.add(layers.Dropout(0.5))\n",
    "model.add(layers.Dense(1, activation='sigmoid'))\n",
    "\n",
    "model.compile(\n",
    "    optimizer=optimizers.RMSprop(lr=2e-5),\n",
    "    loss='binary_crossentropy',\n",
    "    metrics=['acc']\n",
    ")"
   ]
  },
  {
   "cell_type": "code",
   "execution_count": 4,
   "metadata": {},
   "outputs": [
    {
     "name": "stdout",
     "output_type": "stream",
     "text": [
      "Train on 2000 samples, validate on 1000 samples\n",
      "Epoch 1/30\n",
      "2000/2000 [==============================] - 1s 383us/step - loss: 0.6009 - acc: 0.6705 - val_loss: 0.4339 - val_acc: 0.8370\n",
      "Epoch 2/30\n",
      "2000/2000 [==============================] - 0s 223us/step - loss: 0.4341 - acc: 0.8030 - val_loss: 0.3540 - val_acc: 0.8620\n",
      "Epoch 3/30\n",
      "2000/2000 [==============================] - 0s 218us/step - loss: 0.3427 - acc: 0.8555 - val_loss: 0.3167 - val_acc: 0.8740\n",
      "Epoch 4/30\n",
      "2000/2000 [==============================] - 0s 224us/step - loss: 0.3077 - acc: 0.8740 - val_loss: 0.2937 - val_acc: 0.8810\n",
      "Epoch 5/30\n",
      "2000/2000 [==============================] - 0s 218us/step - loss: 0.2865 - acc: 0.8770 - val_loss: 0.2781 - val_acc: 0.8880\n",
      "Epoch 6/30\n",
      "2000/2000 [==============================] - 0s 219us/step - loss: 0.2560 - acc: 0.9005 - val_loss: 0.2680 - val_acc: 0.8960\n",
      "Epoch 7/30\n",
      "2000/2000 [==============================] - 0s 222us/step - loss: 0.2433 - acc: 0.9000 - val_loss: 0.2609 - val_acc: 0.8920\n",
      "Epoch 8/30\n",
      "2000/2000 [==============================] - 0s 217us/step - loss: 0.2257 - acc: 0.9120 - val_loss: 0.2545 - val_acc: 0.8990\n",
      "Epoch 9/30\n",
      "2000/2000 [==============================] - 0s 220us/step - loss: 0.2124 - acc: 0.9190 - val_loss: 0.2485 - val_acc: 0.8990\n",
      "Epoch 10/30\n",
      "2000/2000 [==============================] - 0s 222us/step - loss: 0.2077 - acc: 0.9180 - val_loss: 0.2459 - val_acc: 0.9020\n",
      "Epoch 11/30\n",
      "2000/2000 [==============================] - 0s 217us/step - loss: 0.1944 - acc: 0.9260 - val_loss: 0.2698 - val_acc: 0.8840\n",
      "Epoch 12/30\n",
      "2000/2000 [==============================] - 0s 217us/step - loss: 0.1822 - acc: 0.9325 - val_loss: 0.2417 - val_acc: 0.9020\n",
      "Epoch 13/30\n",
      "2000/2000 [==============================] - 0s 219us/step - loss: 0.1727 - acc: 0.9390 - val_loss: 0.2388 - val_acc: 0.9020\n",
      "Epoch 14/30\n",
      "2000/2000 [==============================] - 0s 217us/step - loss: 0.1615 - acc: 0.9410 - val_loss: 0.2370 - val_acc: 0.9060\n",
      "Epoch 15/30\n",
      "2000/2000 [==============================] - 0s 218us/step - loss: 0.1649 - acc: 0.9395 - val_loss: 0.2361 - val_acc: 0.9060\n",
      "Epoch 16/30\n",
      "2000/2000 [==============================] - 0s 222us/step - loss: 0.1506 - acc: 0.9460 - val_loss: 0.2494 - val_acc: 0.8970\n",
      "Epoch 17/30\n",
      "2000/2000 [==============================] - 0s 220us/step - loss: 0.1447 - acc: 0.9520 - val_loss: 0.2373 - val_acc: 0.8970\n",
      "Epoch 18/30\n",
      "2000/2000 [==============================] - 0s 220us/step - loss: 0.1372 - acc: 0.9530 - val_loss: 0.2395 - val_acc: 0.9000\n",
      "Epoch 19/30\n",
      "2000/2000 [==============================] - 0s 218us/step - loss: 0.1323 - acc: 0.9540 - val_loss: 0.2379 - val_acc: 0.8970\n",
      "Epoch 20/30\n",
      "2000/2000 [==============================] - 0s 219us/step - loss: 0.1290 - acc: 0.9565 - val_loss: 0.2327 - val_acc: 0.9070\n",
      "Epoch 21/30\n",
      "2000/2000 [==============================] - 0s 218us/step - loss: 0.1213 - acc: 0.9620 - val_loss: 0.2417 - val_acc: 0.9040\n",
      "Epoch 22/30\n",
      "2000/2000 [==============================] - 0s 222us/step - loss: 0.1144 - acc: 0.9615 - val_loss: 0.2450 - val_acc: 0.9030\n",
      "Epoch 23/30\n",
      "2000/2000 [==============================] - 0s 219us/step - loss: 0.1047 - acc: 0.9660 - val_loss: 0.2369 - val_acc: 0.9010\n",
      "Epoch 24/30\n",
      "2000/2000 [==============================] - 0s 218us/step - loss: 0.1084 - acc: 0.9660 - val_loss: 0.2328 - val_acc: 0.9040\n",
      "Epoch 25/30\n",
      "2000/2000 [==============================] - 0s 222us/step - loss: 0.1025 - acc: 0.9660 - val_loss: 0.2321 - val_acc: 0.9020\n",
      "Epoch 26/30\n",
      "2000/2000 [==============================] - 0s 220us/step - loss: 0.0978 - acc: 0.9695 - val_loss: 0.2323 - val_acc: 0.9050\n",
      "Epoch 27/30\n",
      "2000/2000 [==============================] - 0s 221us/step - loss: 0.0961 - acc: 0.9700 - val_loss: 0.2341 - val_acc: 0.9020\n",
      "Epoch 28/30\n",
      "2000/2000 [==============================] - 0s 219us/step - loss: 0.0927 - acc: 0.9700 - val_loss: 0.2429 - val_acc: 0.8980\n",
      "Epoch 29/30\n",
      "2000/2000 [==============================] - 0s 219us/step - loss: 0.0853 - acc: 0.9730 - val_loss: 0.2348 - val_acc: 0.9030\n",
      "Epoch 30/30\n",
      "2000/2000 [==============================] - 0s 223us/step - loss: 0.0847 - acc: 0.9740 - val_loss: 0.2427 - val_acc: 0.8980\n"
     ]
    }
   ],
   "source": [
    "history = model.fit(\n",
    "    train_features,\n",
    "    train_labels,\n",
    "    epochs=30,\n",
    "    batch_size=20,\n",
    "    validation_data=(validation_features, validation_labels)\n",
    ")"
   ]
  },
  {
   "cell_type": "code",
   "execution_count": 5,
   "metadata": {},
   "outputs": [
    {
     "data": {
      "text/plain": [
       "<Figure size 640x480 with 1 Axes>"
      ]
     },
     "metadata": {},
     "output_type": "display_data"
    },
    {
     "data": {
      "text/plain": [
       "<Figure size 640x480 with 1 Axes>"
      ]
     },
     "metadata": {},
     "output_type": "display_data"
    }
   ],
   "source": [
    "import matplotlib.pyplot as plt\n",
    "\n",
    "acc = history.history['acc']\n",
    "val_acc = history.history['val_acc']\n",
    "loss = history.history['loss']\n",
    "val_loss = history.history['val_loss']\n",
    "epochs = range(1, len(acc) + 1)\n",
    "\n",
    "plt.plot(epochs, acc, 'bo', label='Training acc')\n",
    "plt.plot(epochs, val_acc, 'b', label='Validation acc')\n",
    "plt.title('Training and validation accuracy')\n",
    "plt.legend()\n",
    "\n",
    "plt.figure()\n",
    "\n",
    "plt.plot(epochs, loss, 'bo', label='Training loss')\n",
    "plt.plot(epochs, val_loss, 'b', label='Validation loss')\n",
    "plt.title('Training and validation loss')\n",
    "plt.legend()\n",
    "\n",
    "plt.show()"
   ]
  },
  {
   "cell_type": "markdown",
   "metadata": {},
   "source": [
    "Instead of simply using the pretrained convnet and only running data through our classifier at the end (above), we can instead pass our data through the entire pretrained network and our classifier (below). This gives us the chance to exploit feature augmentation to reduce overfitting. It is far more computationally expensive however.\n",
    "\n",
    "We can just use an entire trained convnet as a layer in our model(!)."
   ]
  },
  {
   "cell_type": "code",
   "execution_count": 6,
   "metadata": {},
   "outputs": [
    {
     "name": "stdout",
     "output_type": "stream",
     "text": [
      "_________________________________________________________________\n",
      "Layer (type)                 Output Shape              Param #   \n",
      "=================================================================\n",
      "vgg16 (Model)                (None, 4, 4, 512)         14714688  \n",
      "_________________________________________________________________\n",
      "flatten_1 (Flatten)          (None, 8192)              0         \n",
      "_________________________________________________________________\n",
      "dense_3 (Dense)              (None, 256)               2097408   \n",
      "_________________________________________________________________\n",
      "dense_4 (Dense)              (None, 1)                 257       \n",
      "=================================================================\n",
      "Total params: 16,812,353\n",
      "Trainable params: 16,812,353\n",
      "Non-trainable params: 0\n",
      "_________________________________________________________________\n"
     ]
    }
   ],
   "source": [
    "from keras import models\n",
    "from keras import layers\n",
    "\n",
    "model = models.Sequential()\n",
    "model.add(conv_base)\n",
    "model.add(layers.Flatten())\n",
    "model.add(layers.Dense(256, activation='relu'))\n",
    "model.add(layers.Dense(1, activation='sigmoid'))\n",
    "\n",
    "model.summary()"
   ]
  },
  {
   "cell_type": "markdown",
   "metadata": {},
   "source": [
    "We need to take care to freeze the pretrained convnet so we don't pollute it with our random starting weights. And also compile the model once we've made these changes."
   ]
  },
  {
   "cell_type": "code",
   "execution_count": 7,
   "metadata": {},
   "outputs": [],
   "source": [
    "conv_base.trainable = False\n",
    "\n",
    "model.compile(\n",
    "    optimizer=optimizers.RMSprop(lr=2e-5),\n",
    "    loss='binary_crossentropy',\n",
    "    metrics=['acc']\n",
    ")"
   ]
  },
  {
   "cell_type": "markdown",
   "metadata": {},
   "source": [
    "Now we can augment our training data."
   ]
  },
  {
   "cell_type": "code",
   "execution_count": 8,
   "metadata": {},
   "outputs": [
    {
     "name": "stdout",
     "output_type": "stream",
     "text": [
      "Found 2000 images belonging to 2 classes.\n",
      "Found 1000 images belonging to 2 classes.\n"
     ]
    }
   ],
   "source": [
    "train_datagen = ImageDataGenerator(\n",
    "    rescale=1./255,\n",
    "    rotation_range=40,\n",
    "    width_shift_range=0.2,\n",
    "    height_shift_range=0.2,\n",
    "    shear_range=0.2,\n",
    "    zoom_range=0.2,\n",
    "    horizontal_flip=True,\n",
    "    fill_mode='nearest'\n",
    ")\n",
    "\n",
    "test_datagen = ImageDataGenerator(rescale=1./255)\n",
    "\n",
    "train_generator = train_datagen.flow_from_directory(\n",
    "    train_dir,\n",
    "    target_size=(150, 150),\n",
    "    batch_size=20,\n",
    "    class_mode='binary'\n",
    ")\n",
    "\n",
    "validation_generator = test_datagen.flow_from_directory(\n",
    "    validation_dir,\n",
    "    target_size=(150, 150),\n",
    "    batch_size=20,\n",
    "    class_mode='binary'\n",
    ")"
   ]
  },
  {
   "cell_type": "markdown",
   "metadata": {},
   "source": [
    "Remember: steps_per_epoch/validation_steps are based on multiplying the batch_size (in generator) with steps, to get the total. So we have 2000 training items, and 1000 test items (20 * 100 and 20 * 50 respectively)."
   ]
  },
  {
   "cell_type": "code",
   "execution_count": 9,
   "metadata": {},
   "outputs": [
    {
     "name": "stdout",
     "output_type": "stream",
     "text": [
      "Epoch 1/30\n",
      "100/100 [==============================] - 15s 153ms/step - loss: 0.5924 - acc: 0.6930 - val_loss: 0.4520 - val_acc: 0.8190\n",
      "Epoch 2/30\n",
      "100/100 [==============================] - 14s 139ms/step - loss: 0.4884 - acc: 0.7860 - val_loss: 0.3992 - val_acc: 0.8260\n",
      "Epoch 3/30\n",
      "100/100 [==============================] - 14s 139ms/step - loss: 0.4382 - acc: 0.8065 - val_loss: 0.3297 - val_acc: 0.8710\n",
      "Epoch 4/30\n",
      "100/100 [==============================] - 14s 139ms/step - loss: 0.4123 - acc: 0.8185 - val_loss: 0.3034 - val_acc: 0.8800\n",
      "Epoch 5/30\n",
      "100/100 [==============================] - 14s 140ms/step - loss: 0.3875 - acc: 0.8405 - val_loss: 0.2924 - val_acc: 0.8860\n",
      "Epoch 6/30\n",
      "100/100 [==============================] - 14s 139ms/step - loss: 0.3647 - acc: 0.8400 - val_loss: 0.2825 - val_acc: 0.8850\n",
      "Epoch 7/30\n",
      "100/100 [==============================] - 14s 138ms/step - loss: 0.3514 - acc: 0.8575 - val_loss: 0.2713 - val_acc: 0.8910\n",
      "Epoch 8/30\n",
      "100/100 [==============================] - 14s 138ms/step - loss: 0.3497 - acc: 0.8525 - val_loss: 0.2680 - val_acc: 0.8860\n",
      "Epoch 9/30\n",
      "100/100 [==============================] - 14s 139ms/step - loss: 0.3440 - acc: 0.8510 - val_loss: 0.2641 - val_acc: 0.8850\n",
      "Epoch 10/30\n",
      "100/100 [==============================] - 14s 140ms/step - loss: 0.3400 - acc: 0.8495 - val_loss: 0.2594 - val_acc: 0.8890\n",
      "Epoch 11/30\n",
      "100/100 [==============================] - 14s 138ms/step - loss: 0.3308 - acc: 0.8615 - val_loss: 0.2576 - val_acc: 0.8890\n",
      "Epoch 12/30\n",
      "100/100 [==============================] - 14s 138ms/step - loss: 0.3347 - acc: 0.8505 - val_loss: 0.2527 - val_acc: 0.8950\n",
      "Epoch 13/30\n",
      "100/100 [==============================] - 14s 140ms/step - loss: 0.3248 - acc: 0.8600 - val_loss: 0.2503 - val_acc: 0.8940\n",
      "Epoch 14/30\n",
      "100/100 [==============================] - 14s 139ms/step - loss: 0.3230 - acc: 0.8665 - val_loss: 0.2732 - val_acc: 0.8830\n",
      "Epoch 15/30\n",
      "100/100 [==============================] - 14s 138ms/step - loss: 0.3207 - acc: 0.8615 - val_loss: 0.2464 - val_acc: 0.8930\n",
      "Epoch 16/30\n",
      "100/100 [==============================] - 14s 139ms/step - loss: 0.3144 - acc: 0.8655 - val_loss: 0.2463 - val_acc: 0.8950\n",
      "Epoch 17/30\n",
      "100/100 [==============================] - 14s 138ms/step - loss: 0.2969 - acc: 0.8750 - val_loss: 0.2488 - val_acc: 0.8930\n",
      "Epoch 18/30\n",
      "100/100 [==============================] - 14s 139ms/step - loss: 0.3080 - acc: 0.8580 - val_loss: 0.2443 - val_acc: 0.9000\n",
      "Epoch 19/30\n",
      "100/100 [==============================] - 14s 139ms/step - loss: 0.3121 - acc: 0.8665 - val_loss: 0.2480 - val_acc: 0.8980\n",
      "Epoch 20/30\n",
      "100/100 [==============================] - 14s 138ms/step - loss: 0.3003 - acc: 0.8725 - val_loss: 0.2384 - val_acc: 0.8990\n",
      "Epoch 21/30\n",
      "100/100 [==============================] - 14s 139ms/step - loss: 0.3032 - acc: 0.8775 - val_loss: 0.2541 - val_acc: 0.8970\n",
      "Epoch 22/30\n",
      "100/100 [==============================] - 14s 139ms/step - loss: 0.2992 - acc: 0.8710 - val_loss: 0.2350 - val_acc: 0.9050\n",
      "Epoch 23/30\n",
      "100/100 [==============================] - 14s 139ms/step - loss: 0.3058 - acc: 0.8710 - val_loss: 0.2361 - val_acc: 0.9020\n",
      "Epoch 24/30\n",
      "100/100 [==============================] - 14s 139ms/step - loss: 0.2926 - acc: 0.8700 - val_loss: 0.2413 - val_acc: 0.9040\n",
      "Epoch 25/30\n",
      "100/100 [==============================] - 14s 138ms/step - loss: 0.3000 - acc: 0.8715 - val_loss: 0.2409 - val_acc: 0.8980\n",
      "Epoch 26/30\n",
      "100/100 [==============================] - 14s 138ms/step - loss: 0.2952 - acc: 0.8715 - val_loss: 0.2367 - val_acc: 0.9030\n",
      "Epoch 27/30\n",
      "100/100 [==============================] - 14s 139ms/step - loss: 0.2806 - acc: 0.8785 - val_loss: 0.2357 - val_acc: 0.9060\n",
      "Epoch 28/30\n",
      "100/100 [==============================] - 14s 140ms/step - loss: 0.2930 - acc: 0.8710 - val_loss: 0.2394 - val_acc: 0.9070\n",
      "Epoch 29/30\n",
      "100/100 [==============================] - 14s 138ms/step - loss: 0.2811 - acc: 0.8780 - val_loss: 0.2502 - val_acc: 0.8910\n",
      "Epoch 30/30\n",
      "100/100 [==============================] - 14s 140ms/step - loss: 0.2742 - acc: 0.8750 - val_loss: 0.2539 - val_acc: 0.8960\n"
     ]
    }
   ],
   "source": [
    "history = model.fit_generator(\n",
    "    train_generator,\n",
    "    steps_per_epoch=100,\n",
    "    epochs=30,\n",
    "    validation_data=validation_generator,\n",
    "    validation_steps=50\n",
    ")"
   ]
  },
  {
   "cell_type": "code",
   "execution_count": 10,
   "metadata": {},
   "outputs": [
    {
     "data": {
      "image/png": "[encoded data removed]",
      "text/plain": [
       "<Figure size 432x288 with 1 Axes>"
      ]
     },
     "metadata": {},
     "output_type": "display_data"
    },
    {
     "data": {
      "image/png": "[encoded data removed]",
      "text/plain": [
       "<Figure size 432x288 with 1 Axes>"
      ]
     },
     "metadata": {},
     "output_type": "display_data"
    }
   ],
   "source": [
    "acc = history.history['acc']\n",
    "val_acc = history.history['val_acc']\n",
    "loss = history.history['loss']\n",
    "val_loss = history.history['val_loss']\n",
    "epochs = range(1, len(acc) + 1)\n",
    "\n",
    "plt.plot(epochs, acc, 'bo', label='Training acc')\n",
    "plt.plot(epochs, val_acc, 'b', label='Validation acc')\n",
    "plt.title('Training and validation accuracy')\n",
    "plt.legend()\n",
    "\n",
    "plt.figure()\n",
    "\n",
    "plt.plot(epochs, loss, 'bo', label='Training loss')\n",
    "plt.plot(epochs, val_loss, 'b', label='Validation loss')\n",
    "plt.title('Training and validation loss')\n",
    "plt.legend()\n",
    "\n",
    "plt.show()"
   ]
  },
  {
   "cell_type": "markdown",
   "metadata": {},
   "source": [
    "To get higher accuracy we can freeze only some blocks within the pretrained convnet. The deeper (earlier) layers in the network are more general and thus probably more useful to our situation, so we only want to freeze higher (later) layers where they get more specific to their training data (instead of ours). "
   ]
  },
  {
   "cell_type": "code",
   "execution_count": 11,
   "metadata": {},
   "outputs": [],
   "source": [
    "conv_base.trainable = True\n",
    "\n",
    "set_trainable = False\n",
    "for layer in conv_base.layers:\n",
    "    if layer.name == 'block5_conv1':\n",
    "        set_trainable = True\n",
    "    if set_trainable:\n",
    "        layer.trainable = True\n",
    "    else:\n",
    "        layer.trainable = False\n",
    "        "
   ]
  },
  {
   "cell_type": "markdown",
   "metadata": {},
   "source": [
    "We use a lower learning rate here so our data doesn't make too big of an impact on the final layers we're tweaking. They're already ok, we just want to give them a little influence from our data to improve our results. A large learning rate would skew them too much and make them less useful than untweaked ones."
   ]
  },
  {
   "cell_type": "code",
   "execution_count": 12,
   "metadata": {},
   "outputs": [],
   "source": [
    "model.compile(\n",
    "    loss='binary_crossentropy',\n",
    "    optimizer=optimizers.RMSprop(lr=1e-5),\n",
    "    metrics=['acc']\n",
    ")"
   ]
  },
  {
   "cell_type": "code",
   "execution_count": 16,
   "metadata": {},
   "outputs": [
    {
     "name": "stdout",
     "output_type": "stream",
     "text": [
      "Epoch 1/100\n",
      "100/100 [==============================] - 16s 161ms/step - loss: 0.2953 - acc: 0.8735 - val_loss: 0.2253 - val_acc: 0.9100\n",
      "Epoch 2/100\n",
      "100/100 [==============================] - 15s 145ms/step - loss: 0.2645 - acc: 0.8900 - val_loss: 0.2201 - val_acc: 0.9140\n",
      "Epoch 3/100\n",
      "100/100 [==============================] - 14s 145ms/step - loss: 0.2348 - acc: 0.8970 - val_loss: 0.2182 - val_acc: 0.9160\n",
      "Epoch 4/100\n",
      "100/100 [==============================] - 15s 147ms/step - loss: 0.2190 - acc: 0.9055 - val_loss: 0.1842 - val_acc: 0.9270\n",
      "Epoch 5/100\n",
      "100/100 [==============================] - 15s 148ms/step - loss: 0.2199 - acc: 0.9080 - val_loss: 0.1856 - val_acc: 0.9210\n",
      "Epoch 6/100\n",
      "100/100 [==============================] - 15s 153ms/step - loss: 0.1892 - acc: 0.9190 - val_loss: 0.1859 - val_acc: 0.9280\n",
      "Epoch 7/100\n",
      "100/100 [==============================] - 15s 148ms/step - loss: 0.1651 - acc: 0.9275 - val_loss: 0.1762 - val_acc: 0.9300\n",
      "Epoch 8/100\n",
      "100/100 [==============================] - 15s 148ms/step - loss: 0.1693 - acc: 0.9330 - val_loss: 0.2051 - val_acc: 0.9270\n",
      "Epoch 9/100\n",
      "100/100 [==============================] - 15s 148ms/step - loss: 0.1611 - acc: 0.9355 - val_loss: 0.1877 - val_acc: 0.9280\n",
      "Epoch 10/100\n",
      "100/100 [==============================] - 15s 148ms/step - loss: 0.1537 - acc: 0.9400 - val_loss: 0.1733 - val_acc: 0.9390\n",
      "Epoch 11/100\n",
      "100/100 [==============================] - 15s 148ms/step - loss: 0.1503 - acc: 0.9455 - val_loss: 0.1878 - val_acc: 0.9250\n",
      "Epoch 12/100\n",
      "100/100 [==============================] - 15s 148ms/step - loss: 0.1344 - acc: 0.9470 - val_loss: 0.2416 - val_acc: 0.9150\n",
      "Epoch 13/100\n",
      "100/100 [==============================] - 15s 148ms/step - loss: 0.1391 - acc: 0.9525 - val_loss: 0.2334 - val_acc: 0.9130\n",
      "Epoch 14/100\n",
      "100/100 [==============================] - 15s 148ms/step - loss: 0.1313 - acc: 0.9465 - val_loss: 0.2353 - val_acc: 0.9190\n",
      "Epoch 15/100\n",
      "100/100 [==============================] - 15s 148ms/step - loss: 0.1157 - acc: 0.9525 - val_loss: 0.1725 - val_acc: 0.9360\n",
      "Epoch 16/100\n",
      "100/100 [==============================] - 15s 148ms/step - loss: 0.1359 - acc: 0.9455 - val_loss: 0.2166 - val_acc: 0.9190\n",
      "Epoch 17/100\n",
      "100/100 [==============================] - 15s 148ms/step - loss: 0.1192 - acc: 0.9525 - val_loss: 0.1885 - val_acc: 0.9280\n",
      "Epoch 18/100\n",
      "100/100 [==============================] - 15s 148ms/step - loss: 0.1031 - acc: 0.9585 - val_loss: 0.2257 - val_acc: 0.9180\n",
      "Epoch 19/100\n",
      "100/100 [==============================] - 15s 148ms/step - loss: 0.0915 - acc: 0.9610 - val_loss: 0.2015 - val_acc: 0.9250\n",
      "Epoch 20/100\n",
      "100/100 [==============================] - 15s 148ms/step - loss: 0.0991 - acc: 0.9610 - val_loss: 0.1782 - val_acc: 0.9400\n",
      "Epoch 21/100\n",
      "100/100 [==============================] - 15s 148ms/step - loss: 0.0943 - acc: 0.9600 - val_loss: 0.1704 - val_acc: 0.9380\n",
      "Epoch 22/100\n",
      "100/100 [==============================] - 15s 148ms/step - loss: 0.0984 - acc: 0.9665 - val_loss: 0.1814 - val_acc: 0.9350\n",
      "Epoch 23/100\n",
      "100/100 [==============================] - 15s 148ms/step - loss: 0.0851 - acc: 0.9655 - val_loss: 0.1734 - val_acc: 0.9380\n",
      "Epoch 24/100\n",
      "100/100 [==============================] - 15s 148ms/step - loss: 0.0894 - acc: 0.9630 - val_loss: 0.1749 - val_acc: 0.9380\n",
      "Epoch 25/100\n",
      "100/100 [==============================] - 15s 148ms/step - loss: 0.0771 - acc: 0.9670 - val_loss: 0.2738 - val_acc: 0.9150\n",
      "Epoch 26/100\n",
      "100/100 [==============================] - 15s 153ms/step - loss: 0.0861 - acc: 0.9675 - val_loss: 0.1930 - val_acc: 0.9300\n",
      "Epoch 27/100\n",
      "100/100 [==============================] - 15s 148ms/step - loss: 0.0739 - acc: 0.9730 - val_loss: 0.2323 - val_acc: 0.9270\n",
      "Epoch 28/100\n",
      "100/100 [==============================] - 15s 148ms/step - loss: 0.0671 - acc: 0.9765 - val_loss: 0.2093 - val_acc: 0.9340\n",
      "Epoch 29/100\n",
      "100/100 [==============================] - 15s 148ms/step - loss: 0.0619 - acc: 0.9755 - val_loss: 0.2163 - val_acc: 0.9340\n",
      "Epoch 30/100\n",
      "100/100 [==============================] - 15s 148ms/step - loss: 0.0619 - acc: 0.9740 - val_loss: 0.2070 - val_acc: 0.9380\n",
      "Epoch 31/100\n",
      "100/100 [==============================] - 15s 148ms/step - loss: 0.0792 - acc: 0.9710 - val_loss: 0.1793 - val_acc: 0.9420\n",
      "Epoch 32/100\n",
      "100/100 [==============================] - 15s 148ms/step - loss: 0.0740 - acc: 0.9750 - val_loss: 0.1956 - val_acc: 0.9300\n",
      "Epoch 33/100\n",
      "100/100 [==============================] - 15s 148ms/step - loss: 0.0726 - acc: 0.9720 - val_loss: 0.2148 - val_acc: 0.9270\n",
      "Epoch 34/100\n",
      "100/100 [==============================] - 15s 148ms/step - loss: 0.0625 - acc: 0.9775 - val_loss: 0.1894 - val_acc: 0.9350\n",
      "Epoch 35/100\n",
      "100/100 [==============================] - 15s 148ms/step - loss: 0.0489 - acc: 0.9810 - val_loss: 0.1955 - val_acc: 0.9360\n",
      "Epoch 36/100\n",
      "100/100 [==============================] - 15s 148ms/step - loss: 0.0561 - acc: 0.9780 - val_loss: 0.2094 - val_acc: 0.9350\n",
      "Epoch 37/100\n",
      "100/100 [==============================] - 15s 148ms/step - loss: 0.0542 - acc: 0.9810 - val_loss: 0.1830 - val_acc: 0.9360\n",
      "Epoch 38/100\n",
      "100/100 [==============================] - 15s 148ms/step - loss: 0.0568 - acc: 0.9805 - val_loss: 0.1910 - val_acc: 0.9410\n",
      "Epoch 39/100\n",
      "100/100 [==============================] - 15s 148ms/step - loss: 0.0523 - acc: 0.9800 - val_loss: 0.2287 - val_acc: 0.9330\n",
      "Epoch 40/100\n",
      "100/100 [==============================] - 15s 148ms/step - loss: 0.0542 - acc: 0.9800 - val_loss: 0.2648 - val_acc: 0.9290\n",
      "Epoch 41/100\n",
      "100/100 [==============================] - 15s 148ms/step - loss: 0.0700 - acc: 0.9740 - val_loss: 0.2506 - val_acc: 0.9290\n",
      "Epoch 42/100\n",
      "100/100 [==============================] - 15s 149ms/step - loss: 0.0535 - acc: 0.9805 - val_loss: 0.2067 - val_acc: 0.9340\n",
      "Epoch 43/100\n",
      "100/100 [==============================] - 15s 149ms/step - loss: 0.0453 - acc: 0.9820 - val_loss: 0.2116 - val_acc: 0.9340\n",
      "Epoch 44/100\n",
      "100/100 [==============================] - 15s 148ms/step - loss: 0.0383 - acc: 0.9865 - val_loss: 0.2057 - val_acc: 0.9330\n",
      "Epoch 45/100\n",
      "100/100 [==============================] - 16s 161ms/step - loss: 0.0403 - acc: 0.9870 - val_loss: 0.2177 - val_acc: 0.9370\n",
      "Epoch 46/100\n",
      "100/100 [==============================] - 15s 153ms/step - loss: 0.0419 - acc: 0.9840 - val_loss: 0.2249 - val_acc: 0.9340\n",
      "Epoch 47/100\n",
      "100/100 [==============================] - 15s 148ms/step - loss: 0.0355 - acc: 0.9900 - val_loss: 0.2188 - val_acc: 0.9390\n",
      "Epoch 48/100\n",
      "100/100 [==============================] - 15s 148ms/step - loss: 0.0580 - acc: 0.9795 - val_loss: 0.2122 - val_acc: 0.9420\n",
      "Epoch 49/100\n",
      "100/100 [==============================] - 15s 149ms/step - loss: 0.0454 - acc: 0.9845 - val_loss: 0.2029 - val_acc: 0.9350\n",
      "Epoch 50/100\n",
      "100/100 [==============================] - 15s 150ms/step - loss: 0.0337 - acc: 0.9860 - val_loss: 0.2356 - val_acc: 0.9320\n",
      "Epoch 51/100\n",
      "100/100 [==============================] - 15s 145ms/step - loss: 0.0422 - acc: 0.9870 - val_loss: 0.2310 - val_acc: 0.9350\n",
      "Epoch 52/100\n",
      "100/100 [==============================] - 15s 145ms/step - loss: 0.0402 - acc: 0.9845 - val_loss: 0.2048 - val_acc: 0.9390\n",
      "Epoch 53/100\n",
      "100/100 [==============================] - 15s 148ms/step - loss: 0.0407 - acc: 0.9860 - val_loss: 0.1926 - val_acc: 0.9420\n",
      "Epoch 54/100\n",
      "100/100 [==============================] - 17s 168ms/step - loss: 0.0404 - acc: 0.9855 - val_loss: 0.2395 - val_acc: 0.9360\n",
      "Epoch 55/100\n",
      "100/100 [==============================] - 15s 148ms/step - loss: 0.0313 - acc: 0.9885 - val_loss: 0.2306 - val_acc: 0.9310\n",
      "Epoch 56/100\n",
      "100/100 [==============================] - 15s 149ms/step - loss: 0.0381 - acc: 0.9875 - val_loss: 0.2219 - val_acc: 0.9360\n",
      "Epoch 57/100\n",
      "100/100 [==============================] - 15s 148ms/step - loss: 0.0399 - acc: 0.9865 - val_loss: 0.2769 - val_acc: 0.9320\n",
      "Epoch 58/100\n",
      "100/100 [==============================] - 15s 148ms/step - loss: 0.0286 - acc: 0.9900 - val_loss: 0.2303 - val_acc: 0.9340\n",
      "Epoch 59/100\n",
      "100/100 [==============================] - 15s 146ms/step - loss: 0.0445 - acc: 0.9845 - val_loss: 0.2641 - val_acc: 0.9370\n",
      "Epoch 60/100\n",
      "100/100 [==============================] - 15s 147ms/step - loss: 0.0331 - acc: 0.9885 - val_loss: 0.2424 - val_acc: 0.9350\n"
     ]
    },
    {
     "name": "stdout",
     "output_type": "stream",
     "text": [
      "Epoch 61/100\n",
      "100/100 [==============================] - 15s 147ms/step - loss: 0.0325 - acc: 0.9890 - val_loss: 0.2293 - val_acc: 0.9400\n",
      "Epoch 62/100\n",
      "100/100 [==============================] - 15s 151ms/step - loss: 0.0359 - acc: 0.9865 - val_loss: 0.2465 - val_acc: 0.9310\n",
      "Epoch 63/100\n",
      "100/100 [==============================] - 14s 145ms/step - loss: 0.0229 - acc: 0.9925 - val_loss: 0.3335 - val_acc: 0.9270\n",
      "Epoch 64/100\n",
      "100/100 [==============================] - 15s 150ms/step - loss: 0.0411 - acc: 0.9850 - val_loss: 0.3134 - val_acc: 0.9300\n",
      "Epoch 65/100\n",
      "100/100 [==============================] - 15s 151ms/step - loss: 0.0395 - acc: 0.9855 - val_loss: 0.2151 - val_acc: 0.9430\n",
      "Epoch 66/100\n",
      "100/100 [==============================] - 15s 147ms/step - loss: 0.0240 - acc: 0.9910 - val_loss: 0.2263 - val_acc: 0.9430\n",
      "Epoch 67/100\n",
      "100/100 [==============================] - 15s 153ms/step - loss: 0.0317 - acc: 0.9875 - val_loss: 0.2353 - val_acc: 0.9390\n",
      "Epoch 68/100\n",
      "100/100 [==============================] - 15s 146ms/step - loss: 0.0299 - acc: 0.9900 - val_loss: 0.2198 - val_acc: 0.9330\n",
      "Epoch 69/100\n",
      "100/100 [==============================] - 15s 147ms/step - loss: 0.0237 - acc: 0.9900 - val_loss: 0.2227 - val_acc: 0.9390\n",
      "Epoch 70/100\n",
      "100/100 [==============================] - 15s 145ms/step - loss: 0.0340 - acc: 0.9875 - val_loss: 0.2801 - val_acc: 0.9350\n",
      "Epoch 71/100\n",
      "100/100 [==============================] - 15s 149ms/step - loss: 0.0222 - acc: 0.9935 - val_loss: 0.3002 - val_acc: 0.9350\n",
      "Epoch 72/100\n",
      "100/100 [==============================] - 15s 150ms/step - loss: 0.0271 - acc: 0.9890 - val_loss: 0.2424 - val_acc: 0.9380\n",
      "Epoch 73/100\n",
      "100/100 [==============================] - 15s 149ms/step - loss: 0.0202 - acc: 0.9910 - val_loss: 0.2464 - val_acc: 0.9380\n",
      "Epoch 74/100\n",
      "100/100 [==============================] - 15s 147ms/step - loss: 0.0172 - acc: 0.9955 - val_loss: 0.2466 - val_acc: 0.9410\n",
      "Epoch 75/100\n",
      "100/100 [==============================] - 15s 148ms/step - loss: 0.0238 - acc: 0.9915 - val_loss: 0.2427 - val_acc: 0.9450\n",
      "Epoch 76/100\n",
      "100/100 [==============================] - 15s 146ms/step - loss: 0.0253 - acc: 0.9905 - val_loss: 0.5012 - val_acc: 0.9030\n",
      "Epoch 77/100\n",
      "100/100 [==============================] - 15s 148ms/step - loss: 0.0217 - acc: 0.9930 - val_loss: 0.2246 - val_acc: 0.9390\n",
      "Epoch 78/100\n",
      "100/100 [==============================] - 15s 146ms/step - loss: 0.0227 - acc: 0.9920 - val_loss: 0.3997 - val_acc: 0.9170\n",
      "Epoch 79/100\n",
      "100/100 [==============================] - 15s 149ms/step - loss: 0.0219 - acc: 0.9915 - val_loss: 0.2866 - val_acc: 0.9320\n",
      "Epoch 80/100\n",
      "100/100 [==============================] - 15s 154ms/step - loss: 0.0246 - acc: 0.9905 - val_loss: 0.2310 - val_acc: 0.9410\n",
      "Epoch 81/100\n",
      "100/100 [==============================] - 15s 148ms/step - loss: 0.0224 - acc: 0.9900 - val_loss: 0.2380 - val_acc: 0.9430\n",
      "Epoch 82/100\n",
      "100/100 [==============================] - 16s 155ms/step - loss: 0.0160 - acc: 0.9935 - val_loss: 0.3249 - val_acc: 0.9290\n",
      "Epoch 83/100\n",
      "100/100 [==============================] - 16s 160ms/step - loss: 0.0159 - acc: 0.9950 - val_loss: 0.2769 - val_acc: 0.9380\n",
      "Epoch 84/100\n",
      "100/100 [==============================] - 15s 151ms/step - loss: 0.0237 - acc: 0.9910 - val_loss: 0.2510 - val_acc: 0.9440\n",
      "Epoch 85/100\n",
      "100/100 [==============================] - 15s 151ms/step - loss: 0.0189 - acc: 0.9930 - val_loss: 0.2343 - val_acc: 0.9470\n",
      "Epoch 86/100\n",
      "100/100 [==============================] - 15s 151ms/step - loss: 0.0262 - acc: 0.9895 - val_loss: 0.2414 - val_acc: 0.9440\n",
      "Epoch 87/100\n",
      "100/100 [==============================] - 16s 155ms/step - loss: 0.0292 - acc: 0.9915 - val_loss: 0.2780 - val_acc: 0.9340\n",
      "Epoch 88/100\n",
      "100/100 [==============================] - 15s 148ms/step - loss: 0.0202 - acc: 0.9910 - val_loss: 0.2592 - val_acc: 0.9440\n",
      "Epoch 89/100\n",
      "100/100 [==============================] - 15s 148ms/step - loss: 0.0204 - acc: 0.9915 - val_loss: 0.2326 - val_acc: 0.9380\n",
      "Epoch 90/100\n",
      "100/100 [==============================] - 14s 145ms/step - loss: 0.0165 - acc: 0.9940 - val_loss: 0.3318 - val_acc: 0.9280\n",
      "Epoch 91/100\n",
      "100/100 [==============================] - 15s 153ms/step - loss: 0.0178 - acc: 0.9935 - val_loss: 0.2539 - val_acc: 0.9390\n",
      "Epoch 92/100\n",
      "100/100 [==============================] - 15s 146ms/step - loss: 0.0328 - acc: 0.9900 - val_loss: 0.2467 - val_acc: 0.9380\n",
      "Epoch 93/100\n",
      "100/100 [==============================] - 15s 145ms/step - loss: 0.0167 - acc: 0.9950 - val_loss: 0.3644 - val_acc: 0.9330\n",
      "Epoch 94/100\n",
      "100/100 [==============================] - 15s 145ms/step - loss: 0.0150 - acc: 0.9930 - val_loss: 0.2730 - val_acc: 0.9380\n",
      "Epoch 95/100\n",
      "100/100 [==============================] - 15s 147ms/step - loss: 0.0160 - acc: 0.9950 - val_loss: 0.5492 - val_acc: 0.9080\n",
      "Epoch 96/100\n",
      "100/100 [==============================] - 15s 146ms/step - loss: 0.0277 - acc: 0.9910 - val_loss: 0.2714 - val_acc: 0.9420\n",
      "Epoch 97/100\n",
      "100/100 [==============================] - 15s 145ms/step - loss: 0.0120 - acc: 0.9965 - val_loss: 0.3014 - val_acc: 0.9330\n",
      "Epoch 98/100\n",
      "100/100 [==============================] - 15s 148ms/step - loss: 0.0119 - acc: 0.9955 - val_loss: 0.3045 - val_acc: 0.9350\n",
      "Epoch 99/100\n",
      "100/100 [==============================] - 15s 151ms/step - loss: 0.0179 - acc: 0.9930 - val_loss: 0.3700 - val_acc: 0.9270\n",
      "Epoch 100/100\n",
      "100/100 [==============================] - 14s 145ms/step - loss: 0.0150 - acc: 0.9955 - val_loss: 0.2513 - val_acc: 0.9420\n"
     ]
    }
   ],
   "source": [
    "history = model.fit_generator(\n",
    "    train_generator,\n",
    "    steps_per_epoch=100,\n",
    "    epochs=100,\n",
    "    validation_data=validation_generator,\n",
    "    validation_steps=50\n",
    ")"
   ]
  },
  {
   "cell_type": "code",
   "execution_count": 17,
   "metadata": {},
   "outputs": [
    {
     "data": {
      "image/png": "[encoded data removed]",
      "text/plain": [
       "<Figure size 432x288 with 1 Axes>"
      ]
     },
     "metadata": {},
     "output_type": "display_data"
    },
    {
     "data": {
      "image/png": "[encoded data removed]",
      "text/plain": [
       "<Figure size 432x288 with 1 Axes>"
      ]
     },
     "metadata": {},
     "output_type": "display_data"
    }
   ],
   "source": [
    "acc = history.history['acc']\n",
    "val_acc = history.history['val_acc']\n",
    "loss = history.history['loss']\n",
    "val_loss = history.history['val_loss']\n",
    "epochs = range(1, len(acc) + 1)\n",
    "\n",
    "plt.plot(epochs, acc, 'bo', label='Training acc')\n",
    "plt.plot(epochs, val_acc, 'b', label='Validation acc')\n",
    "plt.title('Training and validation accuracy')\n",
    "plt.legend()\n",
    "\n",
    "plt.figure()\n",
    "\n",
    "plt.plot(epochs, loss, 'bo', label='Training loss')\n",
    "plt.plot(epochs, val_loss, 'b', label='Validation loss')\n",
    "plt.title('Training and validation loss')\n",
    "plt.legend()\n",
    "\n",
    "plt.show()"
   ]
  }
 ],
 "metadata": {
  "kernelspec": {
   "display_name": "Python 2",
   "language": "python",
   "name": "python2"
  },
  "language_info": {
   "codemirror_mode": {
    "name": "ipython",
    "version": 2
   },
   "file_extension": ".py",
   "mimetype": "text/x-python",
   "name": "python",
   "nbconvert_exporter": "python",
   "pygments_lexer": "ipython2",
   "version": "2.7.15"
  }
 },
 "nbformat": 4,
 "nbformat_minor": 2
}
