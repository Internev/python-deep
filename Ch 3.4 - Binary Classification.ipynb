{
 "cells": [
  {
   "cell_type": "code",
   "execution_count": 1,
   "metadata": {
    "scrolled": true
   },
   "outputs": [
    {
     "name": "stderr",
     "output_type": "stream",
     "text": [
      "/home/n/anaconda2/lib/python2.7/site-packages/h5py/__init__.py:36: FutureWarning: Conversion of the second argument of issubdtype from `float` to `np.floating` is deprecated. In future, it will be treated as `np.float64 == np.dtype(float).type`.\n",
      "  from ._conv import register_converters as _register_converters\n",
      "Using TensorFlow backend.\n"
     ]
    }
   ],
   "source": [
    "from keras.datasets import imdb\n",
    "\n",
    "(train_data, train_labels), (test_data, test_labels) = imdb.load_data(num_words=10000)\n"
   ]
  },
  {
   "cell_type": "code",
   "execution_count": 2,
   "metadata": {},
   "outputs": [
    {
     "data": {
      "text/plain": [
       "array([0., 1., 1., ..., 0., 0., 0.], dtype=float32)"
      ]
     },
     "execution_count": 2,
     "metadata": {},
     "output_type": "execute_result"
    }
   ],
   "source": [
    "import numpy as np\n",
    "\n",
    "def vectorize_sequences(sequences, dimension=10000):\n",
    "    results = np.zeros((len(sequences), dimension))\n",
    "    for i, sequence in enumerate(sequences):\n",
    "        results[i, sequence] = 1.\n",
    "    return results\n",
    "\n",
    "x_train = vectorize_sequences(train_data)\n",
    "x_test = vectorize_sequences(test_data)\n",
    "\n",
    "y_train = np.asarray(train_labels).astype('float32')\n",
    "y_test = np.asarray(test_labels).astype('float32')"
   ]
  },
  {
   "cell_type": "code",
   "execution_count": 34,
   "metadata": {},
   "outputs": [],
   "source": [
    "from keras import models\n",
    "from keras import layers\n",
    "\n",
    "model = models.Sequential()\n",
    "model.add(layers.Dense(32, activation='relu', input_shape=(10000,)))\n",
    "model.add(layers.Dense(32, activation='elu'))\n",
    "model.add(layers.Dense(32, activation='relu'))\n",
    "model.add(layers.Dense(1, activation='sigmoid'))\n",
    "\n",
    "model.compile(\n",
    "    optimizer='rmsprop',\n",
    "    loss='binary_crossentropy',\n",
    "    metrics=['accuracy']\n",
    ")"
   ]
  },
  {
   "cell_type": "code",
   "execution_count": 6,
   "metadata": {},
   "outputs": [],
   "source": [
    "x_val = x_train[:10000]\n",
    "partial_x_train = x_train[10000:]\n",
    "y_val = y_train[:10000]\n",
    "partial_y_train = y_train[10000:]"
   ]
  },
  {
   "cell_type": "code",
   "execution_count": 35,
   "metadata": {},
   "outputs": [
    {
     "name": "stdout",
     "output_type": "stream",
     "text": [
      "Train on 15000 samples, validate on 10000 samples\n",
      "Epoch 1/10\n",
      "15000/15000 [==============================] - 2s 118us/step - loss: 0.5785 - acc: 0.7135 - val_loss: 0.4257 - val_acc: 0.8573\n",
      "Epoch 2/10\n",
      "15000/15000 [==============================] - 1s 67us/step - loss: 0.3493 - acc: 0.8767 - val_loss: 0.3426 - val_acc: 0.8666\n",
      "Epoch 3/10\n",
      "15000/15000 [==============================] - 1s 66us/step - loss: 0.2511 - acc: 0.9127 - val_loss: 0.2987 - val_acc: 0.8797\n",
      "Epoch 4/10\n",
      "15000/15000 [==============================] - 1s 66us/step - loss: 0.1933 - acc: 0.9333 - val_loss: 0.2753 - val_acc: 0.8925\n",
      "Epoch 5/10\n",
      "15000/15000 [==============================] - 1s 66us/step - loss: 0.1635 - acc: 0.9421 - val_loss: 0.2807 - val_acc: 0.8887\n",
      "Epoch 6/10\n",
      "15000/15000 [==============================] - 1s 66us/step - loss: 0.1503 - acc: 0.9461 - val_loss: 0.2893 - val_acc: 0.8902\n",
      "Epoch 7/10\n",
      "15000/15000 [==============================] - 1s 66us/step - loss: 0.1216 - acc: 0.9573 - val_loss: 0.3137 - val_acc: 0.8823\n",
      "Epoch 8/10\n",
      "15000/15000 [==============================] - 1s 67us/step - loss: 0.0775 - acc: 0.9772 - val_loss: 0.4261 - val_acc: 0.8577\n",
      "Epoch 9/10\n",
      "15000/15000 [==============================] - 1s 67us/step - loss: 0.0731 - acc: 0.9772 - val_loss: 0.3440 - val_acc: 0.8811\n",
      "Epoch 10/10\n",
      "15000/15000 [==============================] - 1s 66us/step - loss: 0.1061 - acc: 0.9648 - val_loss: 0.3624 - val_acc: 0.8795\n"
     ]
    }
   ],
   "source": [
    "history = model.fit(\n",
    "    partial_x_train,\n",
    "    partial_y_train,\n",
    "    epochs=10,\n",
    "    batch_size=1024,\n",
    "    validation_data=(x_val, y_val)\n",
    ")"
   ]
  },
  {
   "cell_type": "code",
   "execution_count": 36,
   "metadata": {},
   "outputs": [
    {
     "data": {
      "image/png": "[encoded data removed]",
      "text/plain": [
       "<Figure size 432x288 with 1 Axes>"
      ]
     },
     "metadata": {},
     "output_type": "display_data"
    }
   ],
   "source": [
    "import matplotlib.pyplot as plt\n",
    "\n",
    "history_dict = history.history\n",
    "loss_values = history_dict['loss']\n",
    "val_loss_values = history_dict['val_loss']\n",
    "acc = history_dict['acc']\n",
    "\n",
    "epochs = range(1, len(acc) + 1)\n",
    "\n",
    "plt.plot(epochs, loss_values, 'bo', label='Training Loss')\n",
    "plt.plot(epochs, val_loss_values, 'b', label='Validation Loss')\n",
    "plt.title('Training and validation loss')\n",
    "plt.xlabel('Epochs')\n",
    "plt.ylabel('Loss')\n",
    "plt.legend()\n",
    "\n",
    "plt.show()"
   ]
  },
  {
   "cell_type": "code",
   "execution_count": 37,
   "metadata": {},
   "outputs": [
    {
     "data": {
      "image/png": "[encoded data removed]",
      "text/plain": [
       "<Figure size 432x288 with 1 Axes>"
      ]
     },
     "metadata": {},
     "output_type": "display_data"
    }
   ],
   "source": [
    "plt.clf()\n",
    "\n",
    "val_acc_values = history_dict['val_acc']\n",
    "\n",
    "plt.plot(epochs, acc, 'bo', label='Training Acc')\n",
    "plt.plot(epochs, val_acc_values, 'b', label='Validation Acc')\n",
    "plt.title('Training and validation accuracy')\n",
    "plt.xlabel('Epochs')\n",
    "plt.ylabel('Accuracy')\n",
    "plt.legend()\n",
    "\n",
    "plt.show()"
   ]
  },
  {
   "cell_type": "code",
   "execution_count": 30,
   "metadata": {},
   "outputs": [
    {
     "name": "stdout",
     "output_type": "stream",
     "text": [
      "Epoch 1/6\n",
      "25000/25000 [==============================] - 2s 67us/step - loss: 0.4390 - acc: 0.8123\n",
      "Epoch 2/6\n",
      "25000/25000 [==============================] - 1s 45us/step - loss: 0.2446 - acc: 0.9094\n",
      "Epoch 3/6\n",
      "25000/25000 [==============================] - 1s 48us/step - loss: 0.1908 - acc: 0.9289\n",
      "Epoch 4/6\n",
      "25000/25000 [==============================] - 1s 46us/step - loss: 0.1506 - acc: 0.9454\n",
      "Epoch 5/6\n",
      "25000/25000 [==============================] - 1s 45us/step - loss: 0.1263 - acc: 0.9533\n",
      "Epoch 6/6\n",
      "25000/25000 [==============================] - 1s 46us/step - loss: 0.1021 - acc: 0.9647\n",
      "25000/25000 [==============================] - 2s 68us/step\n"
     ]
    },
    {
     "data": {
      "text/plain": [
       "[0.4003602418494225, 0.86812]"
      ]
     },
     "execution_count": 30,
     "metadata": {},
     "output_type": "execute_result"
    }
   ],
   "source": [
    "model = models.Sequential()\n",
    "model.add(layers.Dense(32, activation='relu', input_shape=(10000,)))\n",
    "model.add(layers.Dense(32, activation='relu'))\n",
    "model.add(layers.Dense(16, activation='relu'))\n",
    "model.add(layers.Dense(1, activation='sigmoid'))\n",
    "\n",
    "model.compile(\n",
    "    optimizer='rmsprop',\n",
    "    loss='binary_crossentropy',\n",
    "    metrics=['accuracy']\n",
    ")\n",
    "\n",
    "history = model.fit(\n",
    "    x_train,\n",
    "    y_train,\n",
    "    epochs=6,\n",
    "    batch_size=512\n",
    ")\n",
    "results = model.evaluate(x_test, y_test)\n",
    "results\n",
    "\n",
    "# history_dict = history.history\n",
    "# loss_values = history_dict['loss']\n",
    "# val_loss_values = history_dict['val_loss']\n",
    "# acc = history_dict['acc']\n",
    "\n",
    "# epochs = range(1, len(acc) + 1)\n",
    "\n",
    "# plt.plot(epochs, loss_values, 'bo', label='Training Loss')\n",
    "# plt.plot(epochs, val_loss_values, 'b', label='Validation Loss')\n",
    "# plt.title('Training and validation loss')\n",
    "# plt.xlabel('Epochs')\n",
    "# plt.ylabel('Loss')\n",
    "# plt.legend()\n",
    "\n",
    "# plt.show()"
   ]
  },
  {
   "cell_type": "code",
   "execution_count": 27,
   "metadata": {},
   "outputs": [
    {
     "data": {
      "text/plain": [
       "array([[0.2587954 ],\n",
       "       [0.9979043 ],\n",
       "       [0.93720794],\n",
       "       ...,\n",
       "       [0.17157114],\n",
       "       [0.10602579],\n",
       "       [0.6250085 ]], dtype=float32)"
      ]
     },
     "execution_count": 27,
     "metadata": {},
     "output_type": "execute_result"
    }
   ],
   "source": [
    "model.predict(x_test)"
   ]
  }
 ],
 "metadata": {
  "kernelspec": {
   "display_name": "Python 2",
   "language": "python",
   "name": "python2"
  },
  "language_info": {
   "codemirror_mode": {
    "name": "ipython",
    "version": 2
   },
   "file_extension": ".py",
   "mimetype": "text/x-python",
   "name": "python",
   "nbconvert_exporter": "python",
   "pygments_lexer": "ipython2",
   "version": "2.7.15"
  }
 },
 "nbformat": 4,
 "nbformat_minor": 2
}
